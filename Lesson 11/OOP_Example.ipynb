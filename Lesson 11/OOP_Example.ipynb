{
 "cells": [
  {
   "cell_type": "code",
   "execution_count": null,
   "metadata": {},
   "outputs": [],
   "source": [
    "class Car:    \n",
    "    def __init__(self, make, model, year):        \n",
    "        self.make = make        \n",
    "        self.model = model        \n",
    "        self.year = year        \n",
    "        self.engine_on = False    \n",
    "   \n",
    "    def start_engine(self):        \n",
    "        print(f\"The {self.model}'s engine has started\")        \n",
    "        self.engine_on = True   \n",
    "    \n",
    "    def stop_engine(self):       \n",
    "        print(f\"The {self.model}'s engine has stopped\")        \n",
    "        self.engine_on = False    \n",
    "    \n",
    "    def check_engine(self):        \n",
    "        \n",
    "        print(f\"The {self.model}'s engine is {'On' if self.engine_on else 'Off'}\")\n",
    "        car = Car('Ford', 'Mustang', 2012)\n",
    "        car.check_engine()\n",
    "        car.start_engine()\n",
    "        car.check_engine()\n",
    "        car.stop_engine()\n",
    "        car.check_engine() "
   ]
  },
  {
   "cell_type": "markdown",
   "metadata": {},
   "source": [
    "\"\"\"\n",
    "## Practical Exercises\n",
    " \n",
    "1. **Car Class Implementation:** Create a `Car` class with methods like `start_engine`.\n",
    "2. **Electric Car Extension:** Develop an `ElectricCar` subclass with unique attributes.\n",
    "3. **Polymorphism Demonstration:** Use method overriding to demonstrate polymorphism with animal classes.\n",
    " "
   ]
  },
  {
   "cell_type": "code",
   "execution_count": null,
   "metadata": {},
   "outputs": [],
   "source": [
    "class ElectricCar(Car):    \n",
    "    def __init__(self, make, model, year, battery_capacity):        \n",
    "        super().__init__(make, model, year)        \n",
    "        self.battery_capacity = battery_capacity        \n",
    "    \n",
    "    def start_engine(self):        \n",
    "        print(f\"The {self.model}'s electric motor is now running silently.\")    \n",
    "    \n",
    "    def charge_battery(self):        \n",
    "        print(f\"The {self.model}'s battery is charging.\")        \n",
    "        self.battery_capacity += 5        \n",
    "        \n",
    "    def drive(self):        \n",
    "        print(f\"The {self.model} is now driving silently\")        \n",
    "        self.battery_capacity -= 10    \n",
    "        tesla = ElectricCar('Tesla', 'Model-3', 2022, 100)\n",
    "        tesla.start_engine()\n",
    "        tesla.drive()\n",
    "        tesla.charge_battery()\n",
    "        print('Tesla\\'s battery capacity is at '+ str(tesla.battery_capacity)) "
   ]
  },
  {
   "cell_type": "code",
   "execution_count": null,
   "metadata": {},
   "outputs": [],
   "source": [
    "# 3. **Polymorphism Demonstration:** Use method overriding to demonstrate polymorphism with animal classes.class Animal:    \n",
    "def make_sound(self):        \n",
    "    print('The animal makes a sound')\n",
    "\n",
    "class Dog(Animal):    \n",
    "    def make_sound(self):        \n",
    "        print('the dog barks')\n",
    "\n",
    "class Cat(Animal):    \n",
    "    def make_sound(self):        \n",
    "        print('the cat meows')\n",
    "\n",
    "class Cow(Animal):    \n",
    "    def make_sound(self):        \n",
    "        print('the cow moos')\n",
    "    \n",
    "    animals = [Dog(), Cat(), Cow()]\n",
    "    for animal in animals:    \n",
    "        animal.make_sound() "
   ]
  }
 ],
 "metadata": {
  "language_info": {
   "name": "python"
  }
 },
 "nbformat": 4,
 "nbformat_minor": 2
}
