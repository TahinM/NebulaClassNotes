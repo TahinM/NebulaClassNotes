{
 "cells": [
  {
   "cell_type": "markdown",
   "metadata": {},
   "source": [
    "1. 🐶 Implement a Basic Class\n",
    "\n",
    "Create a Dog class with attributes name and age, and a method bark that prints \"{name} says woof!\". Instantiate an object of the class and call the bark method."
   ]
  },
  {
   "cell_type": "code",
   "execution_count": 2,
   "metadata": {},
   "outputs": [
    {
     "name": "stdout",
     "output_type": "stream",
     "text": [
      "Buddy says woof!\n"
     ]
    }
   ],
   "source": [
    "class Dog:\n",
    "    def __init__(self, name, age):\n",
    "        self.name = name\n",
    "        self.age = age\n",
    "\n",
    "    def bark(self):\n",
    "        print(f\"{self.name} says woof!\")\n",
    "\n",
    "my_dog = Dog(\"Buddy\", 3)\n",
    "\n",
    "my_dog.bark()\n"
   ]
  },
  {
   "cell_type": "markdown",
   "metadata": {},
   "source": [
    "2. 💰 Bank Account Encapsulation\n",
    "\n",
    "Implement a BankAccount class with a private attribute __balance. Provide public methods deposit(amount) and withdraw(amount) to modify the balance, and get_balance() to retrieve the current balance."
   ]
  },
  {
   "cell_type": "code",
   "execution_count": 1,
   "metadata": {},
   "outputs": [
    {
     "name": "stdout",
     "output_type": "stream",
     "text": [
      "Deposited: $100\n",
      "Withdrew: $30\n",
      "Current Balance: 70\n"
     ]
    }
   ],
   "source": [
    "class BankAccount:\n",
    "    def __init__(self):\n",
    "        self.__balance = 0  # underscore to show private use\n",
    "\n",
    "    def deposit(self, amount):\n",
    "        if amount > 0:\n",
    "            self.__balance += amount\n",
    "            print(f\"Deposited: ${amount}\")\n",
    "        else:\n",
    "            print(\"Deposit amount must be positive.\")\n",
    "\n",
    "    def withdraw(self, amount):\n",
    "        if 0 < amount <= self.__balance:\n",
    "            self.__balance -= amount\n",
    "            print(f\"Withdrew: ${amount}\")\n",
    "        else:\n",
    "            print(\"Insufficient balance or invalid amount.\")\n",
    "\n",
    "    def get_balance(self):\n",
    "        return self.__balance\n",
    "\n",
    "# Usage example\n",
    "account = BankAccount()\n",
    "account.deposit(100)        \n",
    "account.withdraw(30)          \n",
    "print(\"Current Balance:\", account.get_balance())  # Prints the current balance\n"
   ]
  },
  {
   "cell_type": "markdown",
   "metadata": {},
   "source": [
    "3. 👪 Inheritance and super()\n",
    "\n",
    "Create a base class Person with attributes name and age. Then create a subclass Employee that inherits from Person and adds an attribute employee_id. Use super() to initialize the inherited attributes."
   ]
  },
  {
   "cell_type": "code",
   "execution_count": null,
   "metadata": {},
   "outputs": [],
   "source": []
  },
  {
   "cell_type": "markdown",
   "metadata": {},
   "source": [
    "4. 🐾 Method Overriding and Polymorphism\n",
    "\n",
    "Define a base class Animal with a method speak(). Create subclasses Cat and Dog that override the speak() method to return \"Meow\" and \"Woof\", respectively. Write a function that takes an Animal object and calls its speak() method."
   ]
  },
  {
   "cell_type": "code",
   "execution_count": null,
   "metadata": {},
   "outputs": [],
   "source": []
  },
  {
   "cell_type": "markdown",
   "metadata": {},
   "source": [
    "5. 🔐 Access Modifiers Practice\n",
    "\n",
    "Create a class SafeBox with:\n",
    "\n",
    "A public attribute owner\n",
    "A protected attribute _code\n",
    "A private attribute __content\n",
    "Demonstrate how to access each attribute from inside the class, and attempt to access them from outside the class to observe the behavior."
   ]
  },
  {
   "cell_type": "code",
   "execution_count": null,
   "metadata": {},
   "outputs": [],
   "source": []
  },
  {
   "cell_type": "markdown",
   "metadata": {},
   "source": [
    "6. 📦 Composition vs Inheritance\n",
    "\n",
    "Implement two classes:\n",
    "\n",
    "Box with an attribute contents (a list).\n",
    "ColoredBox that adds a color attribute.\n",
    "First, implement ColoredBox using inheritance from Box. Then, implement ColoredBox using composition by having a Box instance as an attribute."
   ]
  },
  {
   "cell_type": "code",
   "execution_count": null,
   "metadata": {},
   "outputs": [],
   "source": [
    "class Box:\n",
    "    def __init__(self, contents):\n",
    "        self.contents = contents\n",
    "class ColoredBox(Box):\n",
    "    def __init__(self, color, contents):\n",
    "        self.color = color\n",
    "        self.contents = contents\n",
    " \n",
    "box1 = ColoredBox(\"Red\", [\"dogs\", \"puppies and kittens\"])\n",
    "print(box1.color)\n",
    "stuff = box1.contents\n",
    "for content in stuff:\n",
    "    print(content)"
   ]
  },
  {
   "cell_type": "markdown",
   "metadata": {},
   "source": [
    "7. 📋 Abstract Base Class\n",
    "\n",
    "Use the abc module to create an abstract base class Shape with an abstract method area(). Then, create subclasses Circle and Rectangle that implement the area() method.\n",
    "\n"
   ]
  },
  {
   "cell_type": "code",
   "execution_count": 4,
   "metadata": {},
   "outputs": [
    {
     "name": "stdout",
     "output_type": "stream",
     "text": [
      "6361.725123519331\n",
      "18\n"
     ]
    }
   ],
   "source": [
    "import math\n",
    "from abc import ABC\n",
    "class Shape(ABC):\n",
    "    def area(self):\n",
    "        pass\n",
    "class Circle(Shape):\n",
    "    def __init__(self, radius):\n",
    "        self.radius = radius\n",
    "    def area(self):\n",
    "        return math.pi* (self.radius**2)\n",
    "class Rectangle(Shape):\n",
    "    def __init__(self, length, width):\n",
    "        self.length = length\n",
    "        self.width = width\n",
    "    def area(self):\n",
    "        return self.width * self.length\n",
    "   \n",
    "shape1 = Circle(45)\n",
    "shape3 = Rectangle(3, 6)\n",
    " \n",
    "print(shape1.area())\n",
    "print(shape3.area())"
   ]
  },
  {
   "cell_type": "markdown",
   "metadata": {},
   "source": [
    "8. 🌀 Dunder Methods\n",
    "\n",
    "Create a class Vector that represents a vector in 2D space with x and y coordinates. Implement dunder methods for vector addition __add__, string representation __str__, and equality comparison __eq__."
   ]
  },
  {
   "cell_type": "code",
   "execution_count": 5,
   "metadata": {},
   "outputs": [
    {
     "name": "stdout",
     "output_type": "stream",
     "text": [
      "9 15\n",
      "vector(5, 8)\n",
      "True\n"
     ]
    }
   ],
   "source": [
    "class vector:\n",
    "    def __init__(self, x,y):\n",
    "        self.x = x\n",
    "        self.y = y\n",
    "\n",
    "    def __add__(self, other):\n",
    "        return vector(self.x + other.x, self.y + other.y)\n",
    "    \n",
    "    def __eq__(self, other):\n",
    "        if self.x == other.x and self.y == other.y:\n",
    "            return True\n",
    "        else:\n",
    "            False\n",
    "    def __str__(self):\n",
    "        return f\"vector({self.x}, {self.y})\"\n",
    "    \n",
    "cord1 = vector(4,7)\n",
    "cord2 = vector(5,8)\n",
    "cord3 = vector(4,7)\n",
    "\n",
    "cord4 = cord1.__add__(cord2)\n",
    "cord2 = cord2.__str__()\n",
    "\n",
    "print(cord4.x, cord4.y)\n",
    "print(cord2)\n",
    "print(cord1.__eq__(cord3))\n",
    "        "
   ]
  },
  {
   "cell_type": "markdown",
   "metadata": {},
   "source": [
    "9. 🚗 Car Class Hierarchy\n",
    "\n",
    "Create a class hierarchy for vehicles:\n",
    "\n",
    "Base class Vehicle with attributes make and model\n",
    "Subclass Car with attribute num_doors\n",
    "Subclass Truck with attribute payload_capacity\n",
    "Instantiate objects of Car and Truck, and demonstrate how they inherit from Vehicle."
   ]
  },
  {
   "cell_type": "code",
   "execution_count": 8,
   "metadata": {},
   "outputs": [
    {
     "name": "stdout",
     "output_type": "stream",
     "text": [
      "1999\n",
      "2024\n",
      "10000\n"
     ]
    }
   ],
   "source": [
    "class vehicles:\n",
    "    def __init__(self, make, model):\n",
    "        self.make = make\n",
    "        self.model = model\n",
    "\n",
    "class car(vehicles):\n",
    "    def __init__(self, make, model, num_doors):\n",
    "        self.num_doors = num_doors\n",
    "        self.make = make\n",
    "        self.model = model\n",
    "\n",
    "class truck(vehicles):\n",
    "    def __init__(self, make, model, payload_capacity):\n",
    "        self.payload_capacity = payload_capacity\n",
    "        self.make = make\n",
    "        self.model = model\n",
    "\n",
    "Escar = car(4, 1999, 'lexus')\n",
    "tricycle = vehicles(2024, 'spider')\n",
    "pickup = truck(2024, 'ford', 10000)\n",
    "\n",
    "print(Escar.model)\n",
    "print(tricycle.make)\n",
    "print(pickup.payload_capacity)\n",
    "\n",
    "\n",
    "\n"
   ]
  },
  {
   "cell_type": "markdown",
   "metadata": {},
   "source": [
    "Extra Challenge 💡\n",
    "\n",
    "Combine multiple OOP concepts:\n",
    "\n",
    "Create an Employee class with private attributes, inheritance, and polymorphism:\n",
    "\n",
    "Base class Employee with a private attribute __salary and methods to set and get the salary.\n",
    "Subclass Manager that overrides a method calculate_bonus() differently from the base class.\n",
    "Use @property decorators to manage access to private attributes.\n",
    "Then, create multiple employee objects, store them in a list, and write a function that calculates the total salary expenditure."
   ]
  },
  {
   "cell_type": "code",
   "execution_count": 9,
   "metadata": {},
   "outputs": [
    {
     "name": "stdout",
     "output_type": "stream",
     "text": [
      "30000\n",
      "80000\n"
     ]
    }
   ],
   "source": [
    "class employee:\n",
    "    def __init__(self, salary):\n",
    "        self.__salary = salary\n",
    "\n",
    "    def salary(self):\n",
    "        return self.__salary\n",
    "    def salary(self, amount):\n",
    "        if amount < 0:\n",
    "            return \"In debt\"\n",
    "        self.__salary = amount\n",
    "\n",
    "    def calculate_bonus(self):\n",
    "        return self.__salary + 5000\n",
    "class manager(employee):\n",
    "    def __init__(self, salary):\n",
    "        self.__salary = salary\n",
    "    def calculate_bonus(self):\n",
    "        return self.__salary + 50000\n",
    "    \n",
    "june = employee(25000)\n",
    "devon = manager(30000)\n",
    "\n",
    "print(june.calculate_bonus())\n",
    "print(devon.calculate_bonus())\n",
    "    \n",
    "            "
   ]
  },
  {
   "cell_type": "markdown",
   "metadata": {},
   "source": []
  }
 ],
 "metadata": {
  "kernelspec": {
   "display_name": "Python 3",
   "language": "python",
   "name": "python3"
  },
  "language_info": {
   "codemirror_mode": {
    "name": "ipython",
    "version": 3
   },
   "file_extension": ".py",
   "mimetype": "text/x-python",
   "name": "python",
   "nbconvert_exporter": "python",
   "pygments_lexer": "ipython3",
   "version": "3.12.1"
  }
 },
 "nbformat": 4,
 "nbformat_minor": 2
}
