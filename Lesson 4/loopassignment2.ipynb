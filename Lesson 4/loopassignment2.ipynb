{
 "cells": [
  {
   "cell_type": "markdown",
   "metadata": {},
   "source": [
    "Understanding the basics of loops is essential for iteration in Python.\n",
    "\n",
    "- **Task 1.1:** Write a `while` loop that prints the numbers 1 through 10.\n",
    "- **Task 1.2:** Write a `for` loop that prints each character in the string `\"Python\"`.\n",
    "- **Task 1.3:** Create a `for` loop that iterates over a list of numbers and prints the square of each number.\n",
    "\n",
    "## Exercise 2: Controlling Loop Flow\n",
    "\n",
    "`break` and `continue` statements can modify the flow of loops.\n",
    "\n",
    "- **Task 2.1:** Write a `while` loop that stops printing numbers from 1 to 10 when the number reaches 7 using the `break` statement.\n",
    "- **Task 2.2:** Write a `for` loop that skips printing the number 5 when iterating over numbers 1 through 10 using the `continue` statement."
   ]
  },
  {
   "cell_type": "code",
   "execution_count": null,
   "metadata": {},
   "outputs": [],
   "source": [
    "# Task 1.1: While loop to print numbers from 1 to 10\n",
    "counter = 1\n",
    "while counter <= 10:\n",
    "    print(counter)\n",
    "    counter += 1\n",
    "\n"
   ]
  },
  {
   "cell_type": "code",
   "execution_count": null,
   "metadata": {},
   "outputs": [],
   "source": [
    "for char in \"Python\":\n",
    "    print(char)"
   ]
  },
  {
   "cell_type": "code",
   "execution_count": null,
   "metadata": {},
   "outputs": [],
   "source": [
    "# Task 1.3: For loop to print the square of each number in a list\n",
    "numbers = [1, 2, 3, 4, 5]\n",
    "for num in numbers:\n",
    "    print(num ** 2)  # Prints the square of each number\n"
   ]
  },
  {
   "cell_type": "code",
   "execution_count": null,
   "metadata": {},
   "outputs": [],
   "source": [
    "counter = 1\n",
    "while counter <= 10:\n",
    "    print(counter)\n",
    "    counter += 1\n",
    "    if counter == 7:\n",
    "        break\n"
   ]
  },
  {
   "cell_type": "code",
   "execution_count": null,
   "metadata": {},
   "outputs": [],
   "source": [
    "counter = 1\n",
    "while counter <= 10:\n",
    "    if counter == 5:\n",
    "        counter += 1\n",
    "        continue  # Skip the print statement when counter is 5\n",
    "    print(counter)\n",
    "    counter += 1\n"
   ]
  },
  {
   "cell_type": "markdown",
   "metadata": {},
   "source": [
    "## Exercise 3: Nested Loops\n",
    "\n",
    "Nested loops allow for more complex iterations and data processing.\n",
    "\n",
    "grid_list = [\n",
    "[[0,0],[0,1],[0,2]],\n",
    "[[1,0],[1,1],[1,2]],\n",
    "[[2,0],[2,1],[2,2]]\n",
    "]"
   ]
  },
  {
   "cell_type": "markdown",
   "metadata": {},
   "source": [
    "- **Task 3.1:** Write a nested `for` loop that prints a 3x3 grid of numbers (i.e., rows and columns of numbers from 0 to 2).\n",
    "  ^^ skip task 3.1"
   ]
  },
  {
   "cell_type": "code",
   "execution_count": null,
   "metadata": {},
   "outputs": [],
   "source": [
    "for i in range (0, 3):\n",
    "    for j in range (0, 3):\n",
    "        if j == 2:\n",
    "            print(i + j, end= ' ')\n",
    "        elif j != 2:\n",
    "            print(i + j, end=', ')\n",
    "    print()"
   ]
  },
  {
   "cell_type": "code",
   "execution_count": null,
   "metadata": {},
   "outputs": [],
   "source": [
    "for i in range(3):\n",
    "    for j in range(3):\n",
    "        print(i + j, end=' ')\n",
    "    print()\n"
   ]
  },
  {
   "cell_type": "markdown",
   "metadata": {},
   "source": [
    "- **Task 3.2:** Using nested loops, write a program to print the multiplication table for numbers 1 through 5.\n"
   ]
  },
  {
   "cell_type": "code",
   "execution_count": null,
   "metadata": {},
   "outputs": [],
   "source": [
    "for i in range (1, 6):\n",
    "    for j in range(1, 13):\n",
    "        print(f\"{i} * {j} = {i * j}\")\n"
   ]
  },
  {
   "cell_type": "markdown",
   "metadata": {},
   "source": [
    "## Exercise 4: Looping with Ranges\n",
    "\n",
    "The `range()` function is a useful tool for generating sequences of numbers in loops."
   ]
  },
  {
   "cell_type": "markdown",
   "metadata": {},
   "source": [
    "- **Task 4.1:** Write a `for` loop that prints only the even numbers from 1 to 20 using the `range()` function.\n"
   ]
  },
  {
   "cell_type": "code",
   "execution_count": null,
   "metadata": {},
   "outputs": [],
   "source": [
    "for i in range(0, 22):\n",
    "    if i % 2 == 0:\n",
    "        print(i)\n"
   ]
  },
  {
   "cell_type": "markdown",
   "metadata": {},
   "source": [
    "- **Task 4.2:** Write a `for` loop that counts down from 10 to 1 using the `range()` function."
   ]
  },
  {
   "cell_type": "code",
   "execution_count": 21,
   "metadata": {},
   "outputs": [
    {
     "name": "stdout",
     "output_type": "stream",
     "text": [
      "10\n",
      "9\n",
      "8\n",
      "7\n",
      "6\n",
      "5\n",
      "4\n",
      "3\n",
      "2\n",
      "1\n"
     ]
    }
   ],
   "source": [
    "for i in range(10, 0, -1):\n",
    "    print(i)"
   ]
  },
  {
   "cell_type": "markdown",
   "metadata": {},
   "source": [
    "## Exercise 5: Real-World Applications of Loops\n",
    "\n",
    "Loops can be applied in real-world scenarios for tasks like data processing or automation."
   ]
  },
  {
   "cell_type": "markdown",
   "metadata": {},
   "source": [
    "- **Task 5.1:** Write a `for` loop that asks the user to input 5 different names and stores them in a list. Then, print each name."
   ]
  },
  {
   "cell_type": "code",
   "execution_count": 3,
   "metadata": {},
   "outputs": [
    {
     "name": "stdout",
     "output_type": "stream",
     "text": [
      "['tai', 'bob', 'mike', 'mike', 'bob']\n"
     ]
    }
   ],
   "source": [
    "names_list =[]\n",
    "\n",
    "for num in range(5):\n",
    "    name = input(\"Please enter a name: \")\n",
    "\n",
    "    names_list.append(name)\n",
    "print(names_list)"
   ]
  },
  {
   "cell_type": "markdown",
   "metadata": {},
   "source": [
    "- **Task 5.2:** Write a `while` loop that keeps asking the user to guess a secret number until they get it right. Use `break` when they guess correctly."
   ]
  },
  {
   "cell_type": "code",
   "execution_count": 4,
   "metadata": {},
   "outputs": [
    {
     "name": "stdout",
     "output_type": "stream",
     "text": [
      "You did not guess correctly.\n",
      "You did not guess correctly.\n",
      "You did not guess correctly.\n",
      "You did not guess correctly.\n",
      "You guessed the right number.\n"
     ]
    }
   ],
   "source": [
    "secret_numb = 5\n",
    "guess = int(input(\"Guess the secret number: \"))\n",
    "\n",
    "while True: \n",
    "    if guess != secret_numb:\n",
    "        print(\"You did not guess correctly.\")\n",
    "        guess = int(input(\"Guess the secret number again: \"))\n",
    "    elif guess == secret_numb:\n",
    "        print(\"You guessed the right number.\")\n",
    "        break"
   ]
  }
 ],
 "metadata": {
  "kernelspec": {
   "display_name": "Python 3",
   "language": "python",
   "name": "python3"
  },
  "language_info": {
   "codemirror_mode": {
    "name": "ipython",
    "version": 3
   },
   "file_extension": ".py",
   "mimetype": "text/x-python",
   "name": "python",
   "nbconvert_exporter": "python",
   "pygments_lexer": "ipython3",
   "version": "3.12.1"
  }
 },
 "nbformat": 4,
 "nbformat_minor": 2
}
