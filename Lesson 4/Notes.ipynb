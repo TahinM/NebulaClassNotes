{
 "cells": [
  {
   "cell_type": "markdown",
   "metadata": {},
   "source": [
    "**Practice:**\n",
    "1. **Basic Decision Making:**   - Write a program to check if a number is positive, negative, or zero.   - Input: Any integer.   - Output: A string stating the type of number.\n",
    "\n",
    "2. **Logical Operators:**   - Create a program that determines if a year is a leap year. Use logical operators.   - Input: A year.   - Output: True if a leap year, False otherwise.\n",
    "\n",
    "3. **Nested Conditional Statements:**   - Develop a program that categorizes a person's life stage: child (< 18), adult (18-64), senior (> 64).   - Input: Age as an integer.   - Output: The life stage. "
   ]
  },
  {
   "cell_type": "code",
   "execution_count": 6,
   "metadata": {},
   "outputs": [
    {
     "name": "stdout",
     "output_type": "stream",
     "text": [
      "Your number is an even number.\n"
     ]
    }
   ],
   "source": [
    "num = int(input(\"Please enter a number: \"))\n",
    "\n",
    "if num > 0 and num % 2 == 0:\n",
    "    print(\"Your number is an even number.\")\n",
    "elif num > 0 and num % 2 != 0:\n",
    "    print(\"Your number is an odd number.\")\n",
    "elif num < 0:\n",
    "    print(\"Your number is a negative number.\")\n",
    "else:\n",
    "    print(\"Your number is Zero.\")"
   ]
  },
  {
   "cell_type": "code",
   "execution_count": 16,
   "metadata": {},
   "outputs": [
    {
     "name": "stdout",
     "output_type": "stream",
     "text": [
      "2031 is not a leap year.\n"
     ]
    }
   ],
   "source": [
    "year = int(input(\"Enter a year\"))\n",
    "if (year % 4 == 0 and year % 100 !=0) or (year % 400 == 0):\n",
    "    print(year, \"is a leap year.\")\n",
    "else:\n",
    "    print(year,\"is not a leap year.\")"
   ]
  },
  {
   "cell_type": "code",
   "execution_count": 13,
   "metadata": {},
   "outputs": [
    {
     "name": "stdout",
     "output_type": "stream",
     "text": [
      "You are an adult\n"
     ]
    }
   ],
   "source": [
    "age = int(input(\"Enter your age.\"))\n",
    "\n",
    "if age < 18:\n",
    "    print(\"You are a child\")\n",
    "elif age >= 18 and age <= 64:\n",
    "    print(\"You are an adult\")\n",
    "else:\n",
    "    print(\"You are a senior.\")"
   ]
  }
 ],
 "metadata": {
  "kernelspec": {
   "display_name": "Python 3",
   "language": "python",
   "name": "python3"
  },
  "language_info": {
   "codemirror_mode": {
    "name": "ipython",
    "version": 3
   },
   "file_extension": ".py",
   "mimetype": "text/x-python",
   "name": "python",
   "nbconvert_exporter": "python",
   "pygments_lexer": "ipython3",
   "version": "3.12.1"
  }
 },
 "nbformat": 4,
 "nbformat_minor": 2
}
