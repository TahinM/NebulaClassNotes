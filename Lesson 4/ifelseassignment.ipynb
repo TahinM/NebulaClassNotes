{
 "cells": [
  {
   "cell_type": "markdown",
   "metadata": {},
   "source": [
    "Here’s a new assignment on **Conditional Statements**, based on the provided lecture:\n",
    "\n",
    "## Exercise 4: Complex Decision Making\n",
    "\n",
    "Use conditional statements to create more complex decision-making systems.\n",
    "\n",
    "- **Task 4.1:** Write a program that asks for the temperature in Fahrenheit and Celsius, and the unit to which you want to convert. It should then convert the temperature.\n",
    "  - **Input:** Temperature and the target unit (`\"Celsius\"` or `\"Fahrenheit\"`).\n",
    "  - **Output:** The converted temperature.\n",
    "# Task 4.1\n",
    "\n",
    "## Exercise 5: Grading System\n",
    "Implement a decision-making structure for a grading system.\n",
    "\n",
    "- **Task 5.1:** Write a program to convert a percentage score to a letter grade.\n",
    "  - **A:** 90–100\n",
    "  - **B:** 80–89\n",
    "  - **C:** 70–79\n",
    "  - **D:** 60–69\n",
    "  - **F:** Below 60\n",
    "  - **Input:** Score as a percentage.\n",
    "  - **Output:** The corresponding grade.\n"
   ]
  },
  {
   "cell_type": "code",
   "execution_count": null,
   "metadata": {},
   "outputs": [],
   "source": [
    "temp = int(input(\"Enter the temperature\"))\n",
    "unit = input(\"Do you want it in Fahrenheit or Celsius\")\n",
    "\n",
    "\n",
    "if unit == 'Fahrenheit':\n",
    "\n"
   ]
  },
  {
   "cell_type": "code",
   "execution_count": 8,
   "metadata": {},
   "outputs": [
    {
     "name": "stdout",
     "output_type": "stream",
     "text": [
      "Your grade is a C\n"
     ]
    }
   ],
   "source": [
    "grade = int(input(\"Enter your grade.\"))\n",
    "\n",
    "if grade >= 90 and grade <= 100:\n",
    "    print(\"Your grade is a A\")\n",
    "elif grade >= 80 and grade <= 89:\n",
    "    print(\"Your grade is a B\")\n",
    "elif grade >= 70 and grade <= 79:\n",
    "    print(\"Your grade is a C\")\n",
    "elif grade >= 60 and grade <= 69:\n",
    "    print(\"Your grade is a D\")\n",
    "else:\n",
    "    print(\"Your grade is an F\")\n",
    "    "
   ]
  }
 ],
 "metadata": {
  "kernelspec": {
   "display_name": "Python 3",
   "language": "python",
   "name": "python3"
  },
  "language_info": {
   "codemirror_mode": {
    "name": "ipython",
    "version": 3
   },
   "file_extension": ".py",
   "mimetype": "text/x-python",
   "name": "python",
   "nbconvert_exporter": "python",
   "pygments_lexer": "ipython3",
   "version": "3.12.1"
  }
 },
 "nbformat": 4,
 "nbformat_minor": 2
}
