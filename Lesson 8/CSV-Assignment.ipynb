{
 "cells": [
  {
   "cell_type": "markdown",
   "metadata": {},
   "source": [
    "# CSV File Handling Assignment\n",
    "\n",
    "## Exercise 1: Basic CSV File Operations\n",
    "\n",
    "In this exercise, you'll apply basic operations on CSV files using Python's `csv` module.\n",
    "\n",
    "* **Task 1.1:** Write a Python script to create a CSV file named `students.csv` and add the following data to it:\n",
    "    - Headers: `Name`, `Age`, `Major`\n",
    "    - Rows: \n",
    "        - Alice, 24, Computer Science\n",
    "        - Bob, 22, Mathematics\n",
    "        - Charlie, 23, Physics\n",
    "    - Ensure you close the file properly after writing."
   ]
  },
  {
   "cell_type": "code",
   "execution_count": 13,
   "metadata": {},
   "outputs": [],
   "source": [
    "# Task 1.1\n",
    "import csv"
   ]
  },
  {
   "cell_type": "markdown",
   "metadata": {},
   "source": [
    "* **Task 1.2:** Read the file `students.csv` you just created, print each row to the console."
   ]
  },
  {
   "cell_type": "code",
   "execution_count": 14,
   "metadata": {},
   "outputs": [
    {
     "name": "stdout",
     "output_type": "stream",
     "text": [
      "['Name', 'Age', 'Major']\n",
      "['Alice', ' 24', ' Computer Science']\n",
      "['Bob', ' 22', ' Mathematics']\n",
      "['Charlie', ' 23', ' PhysicsDavid', '25', 'Engineering']\n",
      "['David', '25', 'Engineering']\n",
      "['David', '25', 'Engineering']\n",
      "['David', '25', 'Engineering']\n",
      "['David', '25', 'Engineering']\n",
      "['David', '25', 'Engineering']\n"
     ]
    }
   ],
   "source": [
    "# Task 1.2\n",
    "with open('students.csv', mode='r') as file:\n",
    "    csv_reader = csv.reader(file)\n",
    "    for row in csv_reader:\n",
    "        print(row)"
   ]
  },
  {
   "cell_type": "markdown",
   "metadata": {},
   "source": [
    "* **Task 1.3:** Append a new row with your own choice of data to `students.csv` and print the entire file content to verify the addition."
   ]
  },
  {
   "cell_type": "code",
   "execution_count": 16,
   "metadata": {},
   "outputs": [
    {
     "name": "stdout",
     "output_type": "stream",
     "text": [
      "['Name', 'Age', 'Major']\n",
      "['Alice', ' 24', ' Computer Science']\n",
      "['Bob', ' 22', ' Mathematics']\n",
      "['Charlie', ' 23', ' PhysicsDavid', '25', 'Engineering']\n",
      "['David', '25', 'Engineering']\n",
      "['David', '25', 'Engineering']\n"
     ]
    }
   ],
   "source": [
    "# Task 1.3\n",
    "import csv\n",
    "\n",
    "with open('students.csv', mode='a', newline='') as file:  # 'newline' prevents extra blank lines\n",
    "    writer = csv.writer(file)\n",
    "    writer.writerow(['David', 25, 'Engineering'])\n",
    "\n",
    "with open('students.csv', mode='r', newline='') as file:\n",
    "    reader = csv.reader(file)\n",
    "    for row in reader:\n",
    "        print(row)"
   ]
  },
  {
   "cell_type": "markdown",
   "metadata": {},
   "source": [
    "## Exercise 2: Advanced CSV Handling\n",
    "\n",
    "Let's explore more sophisticated CSV handling techniques.\n",
    "\n",
    "* **Task 2.1:** Create a CSV file `courses.csv` using a dictionary with fieldnames as `CourseID`, `CourseName`, and `Instructor`. Add at least 3 courses to the CSV and print the content of the file."
   ]
  },
  {
   "cell_type": "code",
   "execution_count": 12,
   "metadata": {},
   "outputs": [
    {
     "name": "stdout",
     "output_type": "stream",
     "text": [
      "{'CourseID': '101', 'CourseName': 'Mathematics', 'Instructor': 'Dr. Smith'}\n",
      "{'CourseID': '102', 'CourseName': 'Physics', 'Instructor': 'Dr. Johnson'}\n",
      "{'CourseID': '103', 'CourseName': 'Chemistry', 'Instructor': 'Dr. Lee'}\n"
     ]
    }
   ],
   "source": [
    "# Task 2.1\n",
    "import csv\n",
    "\n",
    "fieldnames = ['CourseID', 'CourseName', 'Instructor']\n",
    "\n",
    "courses = [\n",
    "    {'CourseID': '101', 'CourseName': 'Mathematics', 'Instructor': 'Dr. Smith'},\n",
    "    {'CourseID': '102', 'CourseName': 'Physics', 'Instructor': 'Dr. Johnson'},\n",
    "    {'CourseID': '103', 'CourseName': 'Chemistry', 'Instructor': 'Dr. Lee'}\n",
    "]\n",
    "\n",
    "with open('courses.csv', mode='w', newline='') as file:\n",
    "    writer = csv.DictWriter(file, fieldnames=fieldnames)\n",
    "    \n",
    "    writer.writeheader() \n",
    "    writer.writerows(courses) \n",
    "\n",
    "\n",
    "with open('courses.csv', mode='r', newline='') as file:\n",
    "    reader = csv.DictReader(file)\n",
    "    \n",
    "    for row in reader:\n",
    "        print(row)\n",
    "\n"
   ]
  },
  {
   "cell_type": "markdown",
   "metadata": {},
   "source": [
    "* **Task 2.2:** Read the `courses.csv` file using `DictReader` and print each row as a dictionary."
   ]
  },
  {
   "cell_type": "code",
   "execution_count": 14,
   "metadata": {},
   "outputs": [
    {
     "name": "stdout",
     "output_type": "stream",
     "text": [
      "{'CourseID': '101', 'CourseName': 'Mathematics', 'Instructor': 'Dr. Smith'}\n",
      "{'CourseID': '102', 'CourseName': 'Physics', 'Instructor': 'Dr. Johnson'}\n",
      "{'CourseID': '103', 'CourseName': 'Chemistry', 'Instructor': 'Dr. Lee'}\n"
     ]
    }
   ],
   "source": [
    "# Task 2.2\n",
    "import csv\n",
    "\n",
    "with open('courses.csv', mode='r', newline='') as file:\n",
    "    reader = csv.DictReader(file)\n",
    "    \n",
    "    for row in reader:\n",
    "        print(row)\n"
   ]
  },
  {
   "cell_type": "markdown",
   "metadata": {},
   "source": [
    "* **Task 2.3:** Modify the delimiter of your CSV writer and reader to use a semicolon (`;`) instead of a comma, create a new file `courses_semicolon.csv` and perform read/write operations. Verify by printing the content.\n"
   ]
  },
  {
   "cell_type": "code",
   "execution_count": 10,
   "metadata": {},
   "outputs": [
    {
     "name": "stdout",
     "output_type": "stream",
     "text": [
      "['CourseID', 'CourseName', 'Instructor']\n",
      "['101', 'Mathematics', 'Dr. Smith']\n",
      "['102', 'Physics', 'Dr. Johnson']\n",
      "['103', 'Chemistry', 'Dr. Lee']\n"
     ]
    }
   ],
   "source": [
    "# Task 2.3\n",
    "import csv\n",
    "\n",
    "with open('courses_semicolon.csv', mode='w', newline='') as file:\n",
    "    writer = csv.writer(file, delimiter=';')  \n",
    "    writer.writerow(['CourseID', 'CourseName', 'Instructor'])  \n",
    "    writer.writerow(['101', 'Mathematics', 'Dr. Smith'])\n",
    "    writer.writerow(['102', 'Physics', 'Dr. Johnson'])\n",
    "    writer.writerow(['103', 'Chemistry', 'Dr. Lee'])\n",
    "\n",
    "with open('courses_semicolon.csv', mode='r', newline='') as file:\n",
    "    reader = csv.reader(file, delimiter=';') \n",
    "    for row in reader:\n",
    "        print(row)\n"
   ]
  },
  {
   "cell_type": "markdown",
   "metadata": {},
   "source": [
    "## Exercise 3: Error Handling\n",
    "\n",
    "Implement error handling in file operations to manage unexpected situations.\n",
    "\n",
    "* **Task 3.1:** Attempt to read a file `nonexistent.csv` that does not exist, handle the `FileNotFoundError` to print a custom error message instead of the default traceback.\n"
   ]
  },
  {
   "cell_type": "code",
   "execution_count": 15,
   "metadata": {},
   "outputs": [
    {
     "name": "stdout",
     "output_type": "stream",
     "text": [
      "Error: The file 'nonexistent.csv' does not exist. Please check the file name or path.\n"
     ]
    }
   ],
   "source": [
    "# Task 3.1\n",
    "import csv\n",
    "\n",
    "try:\n",
    "  \n",
    "    with open('nonexistent.csv', mode='r', newline='') as file:\n",
    "        reader = csv.reader(file)\n",
    "        for row in reader:\n",
    "            print(row)\n",
    "except FileNotFoundError:\n",
    "  \n",
    "    print(\"Error: The file 'nonexistent.csv' does not exist. Please check the file name or path.\")\n"
   ]
  },
  {
   "cell_type": "markdown",
   "metadata": {},
   "source": [
    "## Reflection\n",
    "\n",
    "Upon completion of these exercises, reflect on the following points and write a short paragraph:\n",
    "\n",
    "- Discuss the importance of using the `csv` module for handling CSV files in Python projects.\n",
    "- How does handling errors and using custom delimiters enhance the robustness and flexibility of file operations?\n",
    "- Reflect on how the assignment helped you understand the practical application of CSV file operations in real-world projects."
   ]
  }
 ],
 "metadata": {
  "kernelspec": {
   "display_name": "Python 3",
   "language": "python",
   "name": "python3"
  },
  "language_info": {
   "codemirror_mode": {
    "name": "ipython",
    "version": 3
   },
   "file_extension": ".py",
   "mimetype": "text/x-python",
   "name": "python",
   "nbconvert_exporter": "python",
   "pygments_lexer": "ipython3",
   "version": "3.12.1"
  }
 },
 "nbformat": 4,
 "nbformat_minor": 2
}
