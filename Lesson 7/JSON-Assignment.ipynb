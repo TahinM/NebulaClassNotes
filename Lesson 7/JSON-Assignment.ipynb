{
 "cells": [
  {
   "cell_type": "markdown",
   "metadata": {},
   "source": [
    "# JSON Handling in Python Assignment\n",
    "\n",
    "## Exercise 1: Parsing JSON Strings\n",
    "\n",
    "Understanding how to convert JSON strings into Python data structures is a fundamental skill for working with JSON in Python.\n",
    "\n",
    "* **Task 1.1:** Given the JSON string `{\"name\": \"Alice\", \"age\": 30, \"city\": \"New York\"}`, parse it into a Python dictionary and print the dictionary."
   ]
  },
  {
   "cell_type": "code",
   "execution_count": 1,
   "metadata": {},
   "outputs": [
    {
     "name": "stdout",
     "output_type": "stream",
     "text": [
      "Name: Alice\n",
      "Age: 30\n",
      "City: New York\n"
     ]
    }
   ],
   "source": [
    "# Task 1.1\n",
    "import json\n",
    "\n",
    "# Your JSON-like string\n",
    "json_string = '{\"name\": \"Alice\", \"age\": 30, \"city\": \"New York\"}'\n",
    "\n",
    "# Parse the JSON string into a Python dictionary\n",
    "data = json.loads(json_string)\n"
   ]
  },
  {
   "cell_type": "markdown",
   "metadata": {},
   "source": [
    "* **Task 1.2:** Access the value of the `name` key from the dictionary created in Task 1.1 and print it.\n"
   ]
  },
  {
   "cell_type": "code",
   "execution_count": 2,
   "metadata": {},
   "outputs": [
    {
     "name": "stdout",
     "output_type": "stream",
     "text": [
      "Name: Alice\n",
      "Age: 30\n",
      "City: New York\n"
     ]
    }
   ],
   "source": [
    "# Task 1.2\n",
    "print(\"Name:\", data['name'])\n",
    "print(\"Age:\", data['age'])\n",
    "print(\"City:\", data['city'])\n"
   ]
  },
  {
   "cell_type": "markdown",
   "metadata": {},
   "source": [
    "* **Task 1.3:** Modify the `age` value to `31` in the dictionary from Task 1.1 and print the updated dictionary.\n"
   ]
  },
  {
   "cell_type": "code",
   "execution_count": 4,
   "metadata": {},
   "outputs": [
    {
     "name": "stdout",
     "output_type": "stream",
     "text": [
      "31\n"
     ]
    }
   ],
   "source": [
    "# Task 1.3\n",
    "data ['age'] = 31\n",
    "print(data['age'])"
   ]
  },
  {
   "cell_type": "markdown",
   "metadata": {},
   "source": [
    "## Exercise 2: Generating JSON Strings\n",
    "\n",
    "Converting Python data structures to JSON strings is crucial for data storage and communication.\n",
    "\n",
    "* **Task 2.1:** Create a Python list named `colors` with the elements `\"red\"`, `\"green\"`, and `\"blue\"`. Convert this list to a JSON string and print the string."
   ]
  },
  {
   "cell_type": "code",
   "execution_count": 8,
   "metadata": {},
   "outputs": [
    {
     "name": "stdout",
     "output_type": "stream",
     "text": [
      "[\"red\", \"green\", \"blue\"]\n",
      "['red', 'green', 'blue']\n"
     ]
    }
   ],
   "source": [
    "# Task 2.1\n",
    "import json\n",
    "\n",
    "colors = [\"red\", \"green\", \"blue\"]\n",
    "\n",
    "json_color = json.dumps(colors)\n",
    "\n",
    "print(json_color)\n",
    "\n",
    "data = json.loads(json_color)\n",
    "print(data)\n",
    "\n"
   ]
  },
  {
   "cell_type": "markdown",
   "metadata": {},
   "source": [
    "* **Task 2.2:** Create a Python dictionary representing a person with keys `name`, `age`, and `skills`, where `skills` is a list of skills. Convert this dictionary to a JSON string with an indentation of 4 spaces and print it."
   ]
  },
  {
   "cell_type": "code",
   "execution_count": 9,
   "metadata": {},
   "outputs": [
    {
     "name": "stdout",
     "output_type": "stream",
     "text": [
      "{'name': 'bob', 'skills': ['communication, powerpoint, coding']}\n"
     ]
    }
   ],
   "source": [
    "# Task 2.2\n",
    "person = {\"name\": \"bob\", \"skills\": ['communication, powerpoint, coding']}\n",
    "\n",
    "person_json = json.dumps(person)\n",
    "\n",
    "print(person)"
   ]
  },
  {
   "cell_type": "markdown",
   "metadata": {},
   "source": [
    "* **Task 3.1:** Given the nested JSON string `{\"employee\": {\"name\": \"John Doe\", \"roles\": [\"Admin\", \"User\"], \"email\": \"johndoe@example.com\"}}`, parse it into a Python object and print the roles of the employee.\n"
   ]
  },
  {
   "cell_type": "code",
   "execution_count": 12,
   "metadata": {},
   "outputs": [
    {
     "name": "stdout",
     "output_type": "stream",
     "text": [
      "['Admin', 'User']\n"
     ]
    }
   ],
   "source": [
    "# Task 3.1\n",
    "json_individual = {\"employee\": {\"name\": \"John Doe\", \"roles\": [\"Admin\", \"User\"], \"email\": \"johndoe@example.com\"}}\n",
    "\n",
    "roles = json_individual['employee']['roles']\n",
    "print(roles)\n",
    "\n"
   ]
  },
  {
   "cell_type": "markdown",
   "metadata": {},
   "source": [
    "* **Task 3.2:** Add a new role `\"Manager\"` to the employee roles in the Python object from Task 3.1, then convert the entire object back to a JSON string and print it.\n"
   ]
  },
  {
   "cell_type": "code",
   "execution_count": 15,
   "metadata": {},
   "outputs": [
    {
     "name": "stdout",
     "output_type": "stream",
     "text": [
      "{\"employee\": {\"name\": \"John Doe\", \"roles\": [\"Admin\", \"User\", \"Manager\", \"Manager\"], \"email\": \"johndoe@example.com\"}}\n"
     ]
    }
   ],
   "source": [
    "\n",
    "# Task 3.2\n",
    "json_individual[\"employee\"][\"roles\"].append(\"Manager\")\n",
    "\n",
    "json_string = json.dumps(json_individual)\n",
    "print(json_string)\n"
   ]
  },
  {
   "cell_type": "markdown",
   "metadata": {},
   "source": [
    "## Exercise 4: JSON and Files\n",
    "\n",
    "Working with JSON files is a common task for configuration files, data storage, and more.\n",
    "\n",
    "* **Task 4.1:** Write a Python script to load a JSON file named `data.json` containing an array of objects. Print the loaded data."
   ]
  },
  {
   "cell_type": "code",
   "execution_count": 17,
   "metadata": {},
   "outputs": [
    {
     "ename": "FileNotFoundError",
     "evalue": "[Errno 2] No such file or directory: 'data.json'",
     "output_type": "error",
     "traceback": [
      "\u001b[0;31m---------------------------------------------------------------------------\u001b[0m",
      "\u001b[0;31mFileNotFoundError\u001b[0m                         Traceback (most recent call last)",
      "Cell \u001b[0;32mIn[17], line 3\u001b[0m\n\u001b[1;32m      1\u001b[0m \u001b[38;5;66;03m# Task 4.1\u001b[39;00m\n\u001b[1;32m      2\u001b[0m \u001b[38;5;28;01mimport\u001b[39;00m \u001b[38;5;21;01mjson\u001b[39;00m\n\u001b[0;32m----> 3\u001b[0m \u001b[38;5;28;01mwith\u001b[39;00m \u001b[38;5;28;43mopen\u001b[39;49m\u001b[43m(\u001b[49m\u001b[38;5;124;43m'\u001b[39;49m\u001b[38;5;124;43mdata.json\u001b[39;49m\u001b[38;5;124;43m'\u001b[39;49m\u001b[43m,\u001b[49m\u001b[43m \u001b[49m\u001b[38;5;124;43m'\u001b[39;49m\u001b[38;5;124;43mr\u001b[39;49m\u001b[38;5;124;43m'\u001b[39;49m\u001b[43m)\u001b[49m \u001b[38;5;28;01mas\u001b[39;00m file:\n\u001b[1;32m      4\u001b[0m     data \u001b[38;5;241m=\u001b[39m json\u001b[38;5;241m.\u001b[39mload(file)\n\u001b[1;32m      6\u001b[0m \u001b[38;5;28mprint\u001b[39m(data)\n",
      "File \u001b[0;32m~/Library/Python/3.12/lib/python/site-packages/IPython/core/interactiveshell.py:324\u001b[0m, in \u001b[0;36m_modified_open\u001b[0;34m(file, *args, **kwargs)\u001b[0m\n\u001b[1;32m    317\u001b[0m \u001b[38;5;28;01mif\u001b[39;00m file \u001b[38;5;129;01min\u001b[39;00m {\u001b[38;5;241m0\u001b[39m, \u001b[38;5;241m1\u001b[39m, \u001b[38;5;241m2\u001b[39m}:\n\u001b[1;32m    318\u001b[0m     \u001b[38;5;28;01mraise\u001b[39;00m \u001b[38;5;167;01mValueError\u001b[39;00m(\n\u001b[1;32m    319\u001b[0m         \u001b[38;5;124mf\u001b[39m\u001b[38;5;124m\"\u001b[39m\u001b[38;5;124mIPython won\u001b[39m\u001b[38;5;124m'\u001b[39m\u001b[38;5;124mt let you open fd=\u001b[39m\u001b[38;5;132;01m{\u001b[39;00mfile\u001b[38;5;132;01m}\u001b[39;00m\u001b[38;5;124m by default \u001b[39m\u001b[38;5;124m\"\u001b[39m\n\u001b[1;32m    320\u001b[0m         \u001b[38;5;124m\"\u001b[39m\u001b[38;5;124mas it is likely to crash IPython. If you know what you are doing, \u001b[39m\u001b[38;5;124m\"\u001b[39m\n\u001b[1;32m    321\u001b[0m         \u001b[38;5;124m\"\u001b[39m\u001b[38;5;124myou can use builtins\u001b[39m\u001b[38;5;124m'\u001b[39m\u001b[38;5;124m open.\u001b[39m\u001b[38;5;124m\"\u001b[39m\n\u001b[1;32m    322\u001b[0m     )\n\u001b[0;32m--> 324\u001b[0m \u001b[38;5;28;01mreturn\u001b[39;00m \u001b[43mio_open\u001b[49m\u001b[43m(\u001b[49m\u001b[43mfile\u001b[49m\u001b[43m,\u001b[49m\u001b[43m \u001b[49m\u001b[38;5;241;43m*\u001b[39;49m\u001b[43margs\u001b[49m\u001b[43m,\u001b[49m\u001b[43m \u001b[49m\u001b[38;5;241;43m*\u001b[39;49m\u001b[38;5;241;43m*\u001b[39;49m\u001b[43mkwargs\u001b[49m\u001b[43m)\u001b[49m\n",
      "\u001b[0;31mFileNotFoundError\u001b[0m: [Errno 2] No such file or directory: 'data.json'"
     ]
    }
   ],
   "source": [
    "# Task 4.1\n",
    "import json\n",
    "with open('data.json', 'r') as file:\n",
    "    data = json.load(file)\n",
    "\n",
    "print(data)\n"
   ]
  },
  {
   "cell_type": "markdown",
   "metadata": {},
   "source": [
    "* **Task 4.2:** Modify the data loaded in Task 4.1 by adding a new object to the array. Save the updated array back to `data.json`."
   ]
  },
  {
   "cell_type": "code",
   "execution_count": 18,
   "metadata": {},
   "outputs": [
    {
     "name": "stdout",
     "output_type": "stream",
     "text": [
      "New entry added and data saved back to data.json\n"
     ]
    }
   ],
   "source": [
    "# Task 4.2\n",
    "new_entry = {\"name\": \"New Item\", \"value\": 100}\n",
    "data.append(new_entry) \n",
    "\n",
    "with open('data.json', 'w') as file:\n",
    "    json.dump(data, file, indent=4)\n",
    "\n",
    "print(\"New entry added and data saved back to data.json\")\n"
   ]
  },
  {
   "cell_type": "markdown",
   "metadata": {},
   "source": [
    "## Reflection\n",
    "\n",
    "After completing these exercises, reflect on the following questions and write a short paragraph:\n",
    "\n",
    "* What are the advantages of using JSON for data storage and exchange in Python applications?\n",
    "* How does handling complex JSON structures prepare you for working with real-world data?\n",
    "* Reflect on the process of converting between Python objects and JSON strings. How does this impact the way you think about data structures in Python?"
   ]
  }
 ],
 "metadata": {
  "kernelspec": {
   "display_name": "Python 3",
   "language": "python",
   "name": "python3"
  },
  "language_info": {
   "codemirror_mode": {
    "name": "ipython",
    "version": 3
   },
   "file_extension": ".py",
   "mimetype": "text/x-python",
   "name": "python",
   "nbconvert_exporter": "python",
   "pygments_lexer": "ipython3",
   "version": "3.12.1"
  }
 },
 "nbformat": 4,
 "nbformat_minor": 2
}
