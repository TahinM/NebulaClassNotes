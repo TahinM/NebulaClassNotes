{
 "cells": [
  {
   "cell_type": "markdown",
   "metadata": {},
   "source": [
    "# Variables Assignment\n"
   ]
  },
  {
   "cell_type": "markdown",
   "metadata": {},
   "source": [
    "## Exercise 1: Creating and Printing Variables\n",
    "\n",
    "Variables allow us to label data with a descriptive name. This makes our programs easier to understand and maintain.\n",
    "\n",
    "- **Task 1.1:** Create a variable named `my_name` and assign your name to it as a string. Then use the `print()` function to display the value of `my_name`.\n",
    "\n",
    "  Example:\n",
    "\n",
    "  ```python\n",
    "  my_name = \"Alice\"\n",
    "  print(my_name)\n",
    "  ```\n",
    "\n",
    "- **Task 1.2:** Now, create a variable `my_age` and assign your age to it as an integer. Use `print()` to display the value of `my_age`.\n"
   ]
  },
  {
   "cell_type": "code",
   "execution_count": 8,
   "metadata": {},
   "outputs": [
    {
     "name": "stdout",
     "output_type": "stream",
     "text": [
      "Tahin\n"
     ]
    }
   ],
   "source": [
    "# Task 1.1 \n",
    "my_name = \"Tahin\"\n",
    "print(my_name)"
   ]
  },
  {
   "cell_type": "code",
   "execution_count": 9,
   "metadata": {},
   "outputs": [
    {
     "name": "stdout",
     "output_type": "stream",
     "text": [
      "22\n"
     ]
    }
   ],
   "source": [
    "# Task 1.2\n",
    "my_age = 22\n",
    "print(my_age)\n"
   ]
  },
  {
   "cell_type": "markdown",
   "metadata": {},
   "source": [
    "## Exercise 2: Variable Reassignment\n",
    "\n",
    "Learning about variable reassignment is important because it shows how variables can be dynamic and change their values throughout the execution of a program.\n",
    "\n",
    "- **Task 2.1:** Create a variable `x` with the initial value of `10`. Print `x`.\n",
    "- **Task 2.2:** Reassign `x` to a string value, say `\"Python\"`. Print `x` again to observe how its value has changed.\n"
   ]
  },
  {
   "cell_type": "code",
   "execution_count": 10,
   "metadata": {},
   "outputs": [
    {
     "name": "stdout",
     "output_type": "stream",
     "text": [
      "10\n"
     ]
    }
   ],
   "source": [
    "# Task 2.1\n",
    "x = 10 \n",
    "print(x)"
   ]
  },
  {
   "cell_type": "code",
   "execution_count": 11,
   "metadata": {},
   "outputs": [
    {
     "name": "stdout",
     "output_type": "stream",
     "text": [
      "Python\n"
     ]
    }
   ],
   "source": [
    "# Task 2.2\n",
    "x = \"Python\"\n",
    "print(x)"
   ]
  },
  {
   "cell_type": "markdown",
   "metadata": {},
   "source": [
    "## Exercise 3: Swapping Variables\n",
    "\n",
    "Swapping the values of two variables is a common operation in many algorithms. Understanding how to do it efficiently is a key skill.\n",
    "\n",
    "- **Task 3.1:** Create two variables `a` and `b` with the values `3` and `7`, respectively. Print both variables.\n",
    "- **Task 3.2:** Swap the values of `a` and `b` without using a third variable and print them again. After swapping, `a` should have the value `7` and `b` should have the value `3`.\n"
   ]
  },
  {
   "cell_type": "code",
   "execution_count": 12,
   "metadata": {},
   "outputs": [
    {
     "name": "stdout",
     "output_type": "stream",
     "text": [
      "10\n"
     ]
    }
   ],
   "source": [
    "# Task 3.1\n",
    "a = 3\n",
    "b = 7 \n",
    "c = a + b \n",
    "print(c)"
   ]
  },
  {
   "cell_type": "code",
   "execution_count": 13,
   "metadata": {},
   "outputs": [
    {
     "name": "stdout",
     "output_type": "stream",
     "text": [
      "3 7\n"
     ]
    }
   ],
   "source": [
    "# Task 3.2\n",
    "a = 3\n",
    "b = 7 \n",
    "print(a, b)"
   ]
  },
  {
   "cell_type": "markdown",
   "metadata": {},
   "source": [
    "## Exercise 4: Variable Names and Conventions\n",
    "\n",
    "Choosing the right variable name is crucial for writing clear and readable code. Python has certain rules and conventions for naming variables.\n",
    "\n",
    "- **Task 4.1:** [Error Finding] Attempt to create a variable named `1st_number` and assign any number to it. Print the variable. Observe the error message.\n",
    "- **Task 4.2:** Explain why the error occurred and correct the variable name according to Python's naming conventions.\n"
   ]
  },
  {
   "cell_type": "code",
   "execution_count": 14,
   "metadata": {},
   "outputs": [
    {
     "ename": "SyntaxError",
     "evalue": "invalid decimal literal (3285156510.py, line 2)",
     "output_type": "error",
     "traceback": [
      "\u001b[0;36m  Cell \u001b[0;32mIn[14], line 2\u001b[0;36m\u001b[0m\n\u001b[0;31m    1st_numer = 1\u001b[0m\n\u001b[0m    ^\u001b[0m\n\u001b[0;31mSyntaxError\u001b[0m\u001b[0;31m:\u001b[0m invalid decimal literal\n"
     ]
    }
   ],
   "source": [
    "# Task 4.1\n",
    "1st_numer = 1\n",
    "print(1st_number)"
   ]
  },
  {
   "cell_type": "markdown",
   "metadata": {},
   "source": [
    "Task 4.2\n",
    "\n",
    "Your Explanation:\n"
   ]
  },
  {
   "cell_type": "code",
   "execution_count": null,
   "metadata": {},
   "outputs": [],
   "source": [
    "# Task 4.2 - Corrected Variable Name\n",
    "#Because its a syntax error and python either sees it as a variable or a expression. One correct way to do this is first_number"
   ]
  },
  {
   "cell_type": "markdown",
   "metadata": {},
   "source": [
    "## Reflection\n",
    "\n",
    "After completing these exercises, think about the following questions and write a short paragraph reflecting on your answers:\n",
    "\n",
    "- Why is it important to give meaningful names to variables?\n",
    "- What did you learn about how variables work in Python?\n",
    "- How did the exercise on swapping variables help you understand the assignment and manipulation of values in Python?\n"
   ]
  },
  {
   "cell_type": "markdown",
   "metadata": {},
   "source": []
  }
 ],
 "metadata": {
  "kernelspec": {
   "display_name": "Python 3",
   "language": "python",
   "name": "python3"
  },
  "language_info": {
   "codemirror_mode": {
    "name": "ipython",
    "version": 3
   },
   "file_extension": ".py",
   "mimetype": "text/x-python",
   "name": "python",
   "nbconvert_exporter": "python",
   "pygments_lexer": "ipython3",
   "version": "3.12.1"
  }
 },
 "nbformat": 4,
 "nbformat_minor": 2
}
