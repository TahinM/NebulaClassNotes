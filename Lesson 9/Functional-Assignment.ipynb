{
 "cells": [
  {
   "cell_type": "markdown",
   "metadata": {},
   "source": [
    "1. **List Transformation:** Use `map` to create a list of the lengths of each word in the list `[\"Python\", \"Programming\", \"Is\", \"Fun\"]`.\n"
   ]
  },
  {
   "cell_type": "code",
   "execution_count": 2,
   "metadata": {},
   "outputs": [
    {
     "name": "stdout",
     "output_type": "stream",
     "text": [
      "[6, 11, 2, 3]\n"
     ]
    }
   ],
   "source": [
    "# \n",
    "words = [\"Python\", \"Programming\", \"Is\", \"Fun\"]\n",
    "\n",
    "lengths = list(map(lambda word: len(word), words))\n",
    "\n",
    "print(lengths)\n"
   ]
  },
  {
   "cell_type": "markdown",
   "metadata": {},
   "source": [
    "2. **Filtering Values:** Use `filter` to get all the prime numbers from a list `[2, 3, 4, 5, 6, 7, 8, 9, 10]`.\n"
   ]
  },
  {
   "cell_type": "code",
   "execution_count": null,
   "metadata": {},
   "outputs": [],
   "source": [
    "# 2\n",
    "# List of numbers\n",
    "numbers = [2, 3, 4, 5, 6, 7, 8, 9, 10]\n",
    "\n",
    "# Helper function to check if a number is prime\n",
    "def is_prime(num):\n",
    "    if num < 2:\n",
    "        return False\n",
    "    for i in range(2, int(num ** 0.5) + 1):\n",
    "        if num % i == 0:\n",
    "            return False\n",
    "    return True\n",
    "\n",
    "# Using filter to get prime numbers\n",
    "prime_numbers = list(filter(is_prime, numbers))\n",
    "\n",
    "print(prime_numbers)\n"
   ]
  },
  {
   "cell_type": "markdown",
   "metadata": {},
   "source": [
    "3. **Data Aggregation:** Use `reduce` to concatenate a list of strings into a single sentence: `[\"Functional\", \"programming\", \"in\", \"Python\"]`.\n"
   ]
  },
  {
   "cell_type": "code",
   "execution_count": null,
   "metadata": {},
   "outputs": [],
   "source": [
    "# 3"
   ]
  }
 ],
 "metadata": {
  "kernelspec": {
   "display_name": "Python 3",
   "language": "python",
   "name": "python3"
  },
  "language_info": {
   "codemirror_mode": {
    "name": "ipython",
    "version": 3
   },
   "file_extension": ".py",
   "mimetype": "text/x-python",
   "name": "python",
   "nbconvert_exporter": "python",
   "pygments_lexer": "ipython3",
   "version": "3.12.1"
  }
 },
 "nbformat": 4,
 "nbformat_minor": 2
}
