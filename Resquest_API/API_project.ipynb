{
 "cells": [
  {
   "cell_type": "markdown",
   "metadata": {},
   "source": [
    "### Assignment 📝\n",
    "\n",
    "**Project: Building a Simple API Client**\n",
    "\n",
    "- **Objective**: Build a command-line Python application that interacts with a chosen public API to perform a useful function.\n",
    "- **Requirements**:\n",
    "  - Use the `requests` library to send HTTP requests.\n",
    "  - Implement at least one GET request and one POST request.\n",
    "  - Include error handling for network issues and API errors.\n",
    "  - Handle authentication if required by the API.\n",
    "  - Present the data in a user-friendly format (e.g., formatted output, saving to a file).\n",
    "\n",
    "---"
   ]
  },
  {
   "cell_type": "code",
   "execution_count": 4,
   "metadata": {},
   "outputs": [
    {
     "ename": "ModuleNotFoundError",
     "evalue": "No module named 'requests'",
     "output_type": "error",
     "traceback": [
      "\u001b[0;31m---------------------------------------------------------------------------\u001b[0m",
      "\u001b[0;31mModuleNotFoundError\u001b[0m                       Traceback (most recent call last)",
      "Cell \u001b[0;32mIn[4], line 1\u001b[0m\n\u001b[0;32m----> 1\u001b[0m \u001b[38;5;28;01mimport\u001b[39;00m \u001b[38;5;21;01mrequests\u001b[39;00m\n\u001b[1;32m      3\u001b[0m api_key \u001b[38;5;241m=\u001b[39m \u001b[38;5;124m'\u001b[39m\u001b[38;5;124mlive_gRBXtHLTaRaZkLRP14QajRVGnAOxF4EsHCxzONeDNFW6FxKJGDZMZVlHNnftiGzY\u001b[39m\u001b[38;5;124m'\u001b[39m\n\u001b[1;32m      4\u001b[0m headers \u001b[38;5;241m=\u001b[39m {\u001b[38;5;124m'\u001b[39m\u001b[38;5;124mx-api-key\u001b[39m\u001b[38;5;124m'\u001b[39m: api_key}\n",
      "\u001b[0;31mModuleNotFoundError\u001b[0m: No module named 'requests'"
     ]
    }
   ],
   "source": [
    "import requests\n",
    " \n",
    "api_key = 'live_gRBXtHLTaRaZkLRP14QajRVGnAOxF4EsHCxzONeDNFW6FxKJGDZMZVlHNnftiGzY'\n",
    "headers = {'x-api-key': api_key}\n",
    "response = requests.get('https://api.thecatapi.com/v1/images/search', headers=headers)\n",
    "if response.status_code == 200:\n",
    "    cat_image = response.json()[0]\n",
    "    print(f\"Cat Image URL: {cat_image['url']}\")\n",
    "else:\n",
    "    print(\"Failed to retrieve cat image.\")"
   ]
  }
 ],
 "metadata": {
  "kernelspec": {
   "display_name": "Python 3",
   "language": "python",
   "name": "python3"
  },
  "language_info": {
   "codemirror_mode": {
    "name": "ipython",
    "version": 3
   },
   "file_extension": ".py",
   "mimetype": "text/x-python",
   "name": "python",
   "nbconvert_exporter": "python",
   "pygments_lexer": "ipython3",
   "version": "3.12.1"
  }
 },
 "nbformat": 4,
 "nbformat_minor": 2
}
