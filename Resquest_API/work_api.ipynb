{
 "cells": [
  {
   "cell_type": "markdown",
   "metadata": {},
   "source": [
    "1. **Analyzing API Documentation:**\n",
    "\n",
    "   - **Task:** Review the documentation of a public API (e.g., GitHub API, OpenWeatherMap API).\n",
    "   - **Objective:** Identify and list:\n",
    "     - **Endpoints:** Key API endpoints available.\n",
    "     - **HTTP Methods:** The methods used for each endpoint (GET, POST, etc.).\n",
    "     - **Required Parameters:** Any mandatory parameters for requests.\n",
    "     - **Expected Responses:** The format and structure of the data returned."
   ]
  },
  {
   "cell_type": "markdown",
   "metadata": {},
   "source": [
    "Endpoints:\n",
    "/pokemon (List Pokémon)\n",
    "/pokemon/{id or name} (Get details for a specific Pokémon)\n",
    "/type (List all Pokémon types)\n",
    "/ability/{id or name} (Get Pokémon abilities)\n",
    "(This are all the things you can ask the api to give you)\n",
    "\n",
    "HTTP Methods:\n",
    "GET is primarily used (PokeAPI is read-only).\n",
    "Required Parameters: (the name or id similar to a dict key-value)\n",
    "limit: Number of items to return (default is 20).\n",
    "offset: Pagination start point."
   ]
  },
  {
   "cell_type": "markdown",
   "metadata": {},
   "source": []
  },
  {
   "cell_type": "markdown",
   "metadata": {},
   "source": [
    "**Mapping HTTP Methods to CRUD Operations:**\n",
    "\n",
    "   - **Task:** Create a table mapping the CRUD operations to the appropriate HTTP methods.\n",
    "   - **Objective:** Understand how each HTTP method corresponds to create, read, update, and delete actions.\n",
    "\n",
    "     | CRUD Operation | HTTP Method |\n",
    "     | -------------- | ----------- |\n",
    "     | Create         |             |\n",
    "     | Read           |             |\n",
    "     | Update         |             |\n",
    "     | Delete         |             |\n"
   ]
  },
  {
   "cell_type": "markdown",
   "metadata": {},
   "source": [
    "\n",
    "CRUD Operation\tHTTP Method\n",
    "Create\tN/A\n",
    "Read\tGET\n",
    "Update\tN/A\n",
    "Delete\tN/A\n",
    "(Just telling us what we can do and we can only read from it)"
   ]
  },
  {
   "cell_type": "markdown",
   "metadata": {},
   "source": [
    "**Designing RESTful URIs:**\n",
    "\n",
    "   - **Resources Provided:**\n",
    "     - **Users**\n",
    "     - **Posts**\n",
    "     - **Comments**\n",
    "     - **Categories**\n",
    "     - **Tags**\n",
    "   - **Task:** For each resource, design RESTful URIs for the following actions:\n",
    "     - **Listing all items**\n",
    "     - **Retrieving a specific item**\n",
    "     - **Creating a new item**\n",
    "     - **Updating an existing item**\n",
    "     - **Deleting an item**\n",
    "   - **Objective:** Practice constructing standard RESTful endpoints.\n"
   ]
  },
  {
   "cell_type": "markdown",
   "metadata": {},
   "source": [
    "Listing all items:\n",
    "/pokemon: List all Pokémon (supports limit and offset).\n",
    "/type: List all Pokémon types.\n",
    "\n",
    "Retrieving a specific item:\n",
    "/pokemon/{id or name}: Get details for a specific Pokémon.\n",
    "/type/{id or name}: Get details for a specific type.\n",
    "\n",
    "(you can only get an item and thats it, you cannot create, update or delete)\n",
    "Creating a new item: Not applicable (read-only API).\n",
    "Updating an existing item: Not applicable.\n",
    "Deleting an item: Not applicable."
   ]
  },
  {
   "cell_type": "markdown",
   "metadata": {},
   "source": [
    "**Understanding Status Codes:**\n",
    "\n",
    "   - **Scenarios:**\n",
    "     1. **Resource Not Found:** A client requests a user profile that doesn't exist.\n",
    "     2. **Unauthorized Access:** A client tries to access a protected resource without valid authentication.\n",
    "     3. **Successful Creation:** A new post is successfully created on the server.\n",
    "     4. **Bad Request:** A client sends a request with invalid syntax that the server cannot understand.\n",
    "   - **Task:** Determine the appropriate HTTP status code for each scenario.\n",
    "   - **Objective:** Familiarize yourself with common HTTP status codes and their meanings.\n"
   ]
  },
  {
   "cell_type": "markdown",
   "metadata": {},
   "source": [
    "Resource Not Found: A client requests a Pokémon with a non-existent ID (e.g., /pokemon/invalid).\n",
    "Status Code: 404 Not Found\n",
    "Unauthorized Access: PokeAPI doesn’t require authentication, so this isn’t applicable.\n",
    "For APIs with authentication, the code would be 401 Unauthorized.\n",
    "Successful Creation: Not applicable to PokeAPI (read-only).\n",
    "For writable APIs, the code would be 201 Created.\n",
    "Bad Request: A client sends a request with invalid syntax (e.g., malformed query string).\n",
    "Status Code: 400 Bad Request.\n",
    "\n",
    "(if we ask it for a pokemon without an id itll say resource not found, or if there is an invalid request/syntax itll say bad request or 400 bad request)"
   ]
  }
 ],
 "metadata": {
  "language_info": {
   "name": "python"
  }
 },
 "nbformat": 4,
 "nbformat_minor": 2
}
