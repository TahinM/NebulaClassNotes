{
 "cells": [
  {
   "cell_type": "markdown",
   "metadata": {},
   "source": [
    "# Mastering Python Dictionaries Assignment\n",
    "\n",
    "## Exercise 1: Dictionary Basics\n",
    "\n",
    "Dictionaries in Python are powerful tools for storing and managing data in key-value pairs.\n",
    "\n",
    "- **Task 1.1:** Create a dictionary named `my_dict` with keys `'name'` and `'age'` having values `'John'` and `30`, respectively. Print the dictionary."
   ]
  },
  {
   "cell_type": "code",
   "execution_count": 27,
   "metadata": {},
   "outputs": [
    {
     "name": "stdout",
     "output_type": "stream",
     "text": [
      "{'name': 'john', 'age': 30}\n"
     ]
    }
   ],
   "source": [
    "# Task 1.1\n",
    "my_dict = {'name': 'john', 'age': 30}\n",
    "print(my_dict)"
   ]
  },
  {
   "cell_type": "markdown",
   "metadata": {},
   "source": [
    "- **Task 1.2:** Access and print the value associated with the key `'name'` in `my_dict`."
   ]
  },
  {
   "cell_type": "code",
   "execution_count": 28,
   "metadata": {},
   "outputs": [
    {
     "data": {
      "text/plain": [
       "'john'"
      ]
     },
     "execution_count": 28,
     "metadata": {},
     "output_type": "execute_result"
    }
   ],
   "source": [
    "# Task 1.2\n",
    "my_dict.get('name')"
   ]
  },
  {
   "cell_type": "markdown",
   "metadata": {},
   "source": [
    "## Exercise 2: Dictionary Methods\n",
    "\n",
    "Learning to use dictionary methods effectively is crucial for manipulating and retrieving data.\n",
    "\n",
    "- **Task 2.1:** Use the `get()` method to retrieve the value for the key `'email'`. If `'email'` is not a key, it should return `'Not Found'`. Print the result."
   ]
  },
  {
   "cell_type": "code",
   "execution_count": 7,
   "metadata": {},
   "outputs": [
    {
     "name": "stdout",
     "output_type": "stream",
     "text": [
      "None\n"
     ]
    }
   ],
   "source": [
    "# Task 2.1\n",
    "print(my_dict.get('email'))"
   ]
  },
  {
   "cell_type": "markdown",
   "metadata": {},
   "source": [
    "- **Task 2.2:** Print all the keys in `my_dict` using the `keys()` method."
   ]
  },
  {
   "cell_type": "code",
   "execution_count": 8,
   "metadata": {},
   "outputs": [
    {
     "name": "stdout",
     "output_type": "stream",
     "text": [
      "dict_keys(['name', 'age'])\n"
     ]
    }
   ],
   "source": [
    "# Task 2.2\n",
    "print(my_dict.keys())"
   ]
  },
  {
   "cell_type": "markdown",
   "metadata": {},
   "source": [
    "- **Task 2.3:** Print all the values in `my_dict` using the `values()` method."
   ]
  },
  {
   "cell_type": "code",
   "execution_count": 29,
   "metadata": {},
   "outputs": [
    {
     "name": "stdout",
     "output_type": "stream",
     "text": [
      "dict_values(['john', 30])\n"
     ]
    }
   ],
   "source": [
    "# Task 2.3\n",
    "print(my_dict.values())"
   ]
  },
  {
   "cell_type": "markdown",
   "metadata": {},
   "source": [
    "- **Task 2.4:** Print each key-value pair in `my_dict` using the `items()` method."
   ]
  },
  {
   "cell_type": "code",
   "execution_count": 30,
   "metadata": {},
   "outputs": [
    {
     "name": "stdout",
     "output_type": "stream",
     "text": [
      "dict_items([('name', 'john'), ('age', 30)])\n"
     ]
    }
   ],
   "source": [
    "# Task 2.4\n",
    "print(my_dict.items())"
   ]
  },
  {
   "cell_type": "markdown",
   "metadata": {},
   "source": [
    "- **Task 2.5:** Use the `update()` method to add a new key-value pair, `'email': 'john@example.com'`, to `my_dict`. Print the updated dictionary."
   ]
  },
  {
   "cell_type": "code",
   "execution_count": 31,
   "metadata": {},
   "outputs": [
    {
     "name": "stdout",
     "output_type": "stream",
     "text": [
      "{'name': 'john', 'age': 30, 'email': 'BobBuilder12@example.com'}\n"
     ]
    }
   ],
   "source": [
    "# Task 2.5\n",
    "my_dict.update({'email': \"BobBuilder12@example.com\"})\n",
    "print(my_dict)"
   ]
  },
  {
   "cell_type": "markdown",
   "metadata": {},
   "source": [
    "- **Task 2.6:** Remove the key `'age'` from `my_dict` using the `pop()` method and print the popped value and the updated dictionary."
   ]
  },
  {
   "cell_type": "code",
   "execution_count": 32,
   "metadata": {},
   "outputs": [
    {
     "name": "stdout",
     "output_type": "stream",
     "text": [
      "{'name': 'john', 'email': 'BobBuilder12@example.com'}\n"
     ]
    }
   ],
   "source": [
    "# Task 2.6\n",
    "my_dict.pop('age')\n",
    "print(my_dict)"
   ]
  },
  {
   "cell_type": "markdown",
   "metadata": {},
   "source": [
    "## Exercise 3: Advanced Dictionary Operations\n",
    "\n",
    "Exploring advanced features of dictionaries can enhance your data handling capabilities.\n",
    "\n",
    "- **Task 3.1:** Create a nested dictionary named `nested_dict` with at least two keys, each containing another dictionary as its value. Print `nested_dict`."
   ]
  },
  {
   "cell_type": "code",
   "execution_count": 21,
   "metadata": {},
   "outputs": [
    {
     "name": "stdout",
     "output_type": "stream",
     "text": [
      "{'food': {'chips', 'apples', 'taco'}, 'hobbies': {'Music', 'Cars', 'Sports'}}\n"
     ]
    }
   ],
   "source": [
    "# Task 3.1\n",
    "nested_dict = {'food': {'taco', 'chips', 'apples'}, \n",
    "               'hobbies':{'Cars', 'Music', 'Sports'}}\n",
    "print(nested_dict)"
   ]
  },
  {
   "cell_type": "markdown",
   "metadata": {},
   "source": [
    "- **Task 3.2:** Access and print a value from one of the inner dictionaries in `nested_dict`."
   ]
  },
  {
   "cell_type": "code",
   "execution_count": 26,
   "metadata": {},
   "outputs": [
    {
     "name": "stdout",
     "output_type": "stream",
     "text": [
      "{'chips', 'apples', 'taco'}\n"
     ]
    }
   ],
   "source": [
    "# Task 3.2\n",
    "print(nested_dict['food'])"
   ]
  },
  {
   "cell_type": "markdown",
   "metadata": {},
   "source": [
    "- **Task 3.3:** Write a dictionary comprehension to create a new dictionary that inverts `my_dict`, swapping keys and values. Print the new dictionary."
   ]
  },
  {
   "cell_type": "code",
   "execution_count": 33,
   "metadata": {},
   "outputs": [
    {
     "name": "stdout",
     "output_type": "stream",
     "text": [
      "{'john': 'name', 'BobBuilder12@example.com': 'email'}\n"
     ]
    }
   ],
   "source": [
    "# Task 3.3\n",
    "new_dict = {}\n",
    "for x, y in my_dict.items():\n",
    "    new_dict[y] = x\n",
    "\n",
    "print(new_dict)"
   ]
  },
  {
   "cell_type": "markdown",
   "metadata": {},
   "source": [
    "## Reflection\n",
    "\n",
    "After completing these exercises, reflect on the following:\n",
    "\n",
    "- How do dictionaries in Python simplify data management and retrieval?\n",
    "By utlizing key value pairs. \n",
    "- Describe a real-world scenario where a nested dictionary could be handy.\n",
    "Listing out students in a class or creating a restaurant menu.\n",
    "- Reflect on how dictionary methods and comprehensions can produce more efficient and readable code.\n",
    "Depending on what situation, the usage of dictionary will be useful if it is used to assign a specific attribute to something else. \n",
    "\n",
    "Engaging with these exercises will deepen your understanding of dictionaries in Python and their practical applications in programming."
   ]
  },
  {
   "cell_type": "markdown",
   "metadata": {},
   "source": [
    "Reflect:"
   ]
  }
 ],
 "metadata": {
  "kernelspec": {
   "display_name": "Python 3",
   "language": "python",
   "name": "python3"
  },
  "language_info": {
   "codemirror_mode": {
    "name": "ipython",
    "version": 3
   },
   "file_extension": ".py",
   "mimetype": "text/x-python",
   "name": "python",
   "nbconvert_exporter": "python",
   "pygments_lexer": "ipython3",
   "version": "3.12.1"
  }
 },
 "nbformat": 4,
 "nbformat_minor": 2
}
