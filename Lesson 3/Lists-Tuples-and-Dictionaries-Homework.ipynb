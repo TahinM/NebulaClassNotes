{
 "cells": [
  {
   "cell_type": "markdown",
   "metadata": {},
   "source": [
    "# List, Tuples, and Dictionaries Homework\n"
   ]
  },
  {
   "cell_type": "markdown",
   "metadata": {},
   "source": [
    "### Part 1: Lists\n",
    "\n",
    "#### Task 1.1: List Creation and Expansion\n",
    "* Create a list named `my_list` with `1`,  `\"hello\"`, and `3.14`. Print it.\n",
    "* Append `4` and `\"world\"` to `my_list`, then print the updated list.\n",
    "* Extend `my_list` with another list `[\"apple\", \"banana\", \"cherry\"]` and print the result.\n"
   ]
  },
  {
   "cell_type": "code",
   "execution_count": 28,
   "metadata": {},
   "outputs": [
    {
     "name": "stdout",
     "output_type": "stream",
     "text": [
      "[1, 'hello', 3.14]\n",
      "[1, 'hello', 3.14, 4, 'world']\n",
      "[1, 'hello', 3.14, 4, 'world', ['apple', 'banana', 'cherry']]\n"
     ]
    }
   ],
   "source": [
    "# Task 1.1\n",
    "my_list = [1 ,'hello', 3.14]\n",
    "print(my_list)\n",
    "my_list.append(4)\n",
    "my_list.append('world')\n",
    "print(my_list)\n",
    "my_list.append(['apple', 'banana', 'cherry'])\n",
    "print(my_list)"
   ]
  },
  {
   "cell_type": "markdown",
   "metadata": {},
   "source": [
    "#### Task 1.2: List Manipulation and Inquiry\n",
    "\n",
    "* Insert `\"Python\"` at the second position in `my_list` and print the list.\n",
    "* Remove `\"hello\"` from `my_list` and print the updated list.\n",
    "* Print the length, minimum, and maximum values of `my_list` (convert elements to a common type if necessary).\n"
   ]
  },
  {
   "cell_type": "code",
   "execution_count": 29,
   "metadata": {},
   "outputs": [
    {
     "name": "stdout",
     "output_type": "stream",
     "text": [
      "[1, 'hello', 'Python', 3.14, 4, 'world', ['apple', 'banana', 'cherry']]\n",
      "[1, 'Python', 3.14, 4, 'world', ['apple', 'banana', 'cherry']]\n"
     ]
    }
   ],
   "source": [
    "# Task 1.2\n",
    "my_list.insert(2, 'Python')\n",
    "print(my_list)\n",
    "my_list.remove('hello')\n",
    "print(my_list)\n"
   ]
  },
  {
   "cell_type": "markdown",
   "metadata": {},
   "source": [
    "#### Task 1.3: Advanced List Techniques\n",
    "\n",
    "* Create a nested list `nested_list` with `[1, 2, 3]`,  `[\"a\", \"b\", \"c\"]`, and `[4.5, 5.6, 7.8]`.\n",
    "* Access and print the last element of the last nested list in `nested_list`.\n",
    "* Sort `my_list` in reverse order and print it.\n"
   ]
  },
  {
   "cell_type": "code",
   "execution_count": 32,
   "metadata": {},
   "outputs": [
    {
     "name": "stdout",
     "output_type": "stream",
     "text": [
      "The last element of the last nested list is: 7.8\n",
      "[['apple', 'banana', 'cherry'], 'world', 4, 3.14, 'Python', 1]\n"
     ]
    }
   ],
   "source": [
    "# Task 1.3\n",
    "nested_list = [[1, 2, 3], [\"a\", \"b\", \"c\"], [4.5, 5.6, 7.8]]\n",
    "print(f\"The last element of the last nested list is: {nested_list[2][2]}\")\n",
    "\n",
    "print(my_list[::-1])"
   ]
  },
  {
   "cell_type": "markdown",
   "metadata": {},
   "source": [
    "### Part 2: Tuples\n",
    "\n",
    "#### Task 2.1: Tuple Creation and Exploration\n",
    "* Create a tuple `my_tuple` with `(\"Python\", 3.8, \"Programming\", 3.8)`.\n",
    "* Print the first and last elements of `my_tuple`.\n",
    "* Determine and print the index of `\"Programming\"` in `my_tuple`.\n"
   ]
  },
  {
   "cell_type": "code",
   "execution_count": 44,
   "metadata": {},
   "outputs": [
    {
     "name": "stdout",
     "output_type": "stream",
     "text": [
      "Python 3.8\n",
      "The indexing of 'Programming' is: 2\n"
     ]
    }
   ],
   "source": [
    "# Task 2.1\n",
    "my_tuple = (\"Python\", 3.8, \"Programming\", 3.8)\n",
    "print(my_tuple[0], my_tuple[3])\n",
    "print(f\"The indexing of 'Programming' is: {my_tuple.index('Programming')}\")\n"
   ]
  },
  {
   "cell_type": "markdown",
   "metadata": {},
   "source": [
    "#### Task 2.2: Advanced Tuple Operations\n",
    "\n",
    "* Count and print how often `3.8` appears in `my_tuple`.\n",
    "* Unpack `my_tuple` into four variables (add an extra element to `my_tuple` if needed) and print them.\n",
    "* Attempt to modify the second element of `my_tuple` and capture the error message.\n"
   ]
  },
  {
   "cell_type": "code",
   "execution_count": 48,
   "metadata": {},
   "outputs": [
    {
     "name": "stdout",
     "output_type": "stream",
     "text": [
      "Python 3.8 Programming 3.8\n"
     ]
    },
    {
     "ename": "TypeError",
     "evalue": "'tuple' object does not support item assignment",
     "output_type": "error",
     "traceback": [
      "\u001b[0;31m---------------------------------------------------------------------------\u001b[0m",
      "\u001b[0;31mTypeError\u001b[0m                                 Traceback (most recent call last)",
      "Cell \u001b[0;32mIn[48], line 7\u001b[0m\n\u001b[1;32m      4\u001b[0m (a, b, c, d) \u001b[38;5;241m=\u001b[39m my_tuple\n\u001b[1;32m      5\u001b[0m \u001b[38;5;28mprint\u001b[39m(a, b, c, d)\n\u001b[0;32m----> 7\u001b[0m \u001b[43mmy_tuple\u001b[49m\u001b[43m[\u001b[49m\u001b[38;5;241;43m2\u001b[39;49m\u001b[43m]\u001b[49m \u001b[38;5;241m=\u001b[39m \u001b[38;5;124m\"\u001b[39m\u001b[38;5;124mchanged\u001b[39m\u001b[38;5;124m\"\u001b[39m\n\u001b[1;32m      9\u001b[0m \u001b[38;5;28mprint\u001b[39m(my_tuple)\n",
      "\u001b[0;31mTypeError\u001b[0m: 'tuple' object does not support item assignment"
     ]
    }
   ],
   "source": [
    "# Task 2.2\n",
    "my_tuple.count(3.8)\n",
    "\n",
    "(a, b, c, d) = my_tuple\n",
    "print(a, b, c, d)\n",
    "\n",
    "my_tuple[2] = \"changed\"\n",
    "\n",
    "print(my_tuple)\n"
   ]
  },
  {
   "cell_type": "markdown",
   "metadata": {},
   "source": [
    "### Part 3: Dictionaries\n",
    "\n",
    "#### Task 3.1: Dictionary Basics and Modification\n",
    "* Create a dictionary `my_dict` with `\"name\"`,  `\"age\"`,  `\"language\"` keys and corresponding values.\n",
    "* Use `get` to print the value of `\"age\"`, providing a default value if the key is not found.\n",
    "* Update `my_dict` with `\"email\": \"john@example.com\"` and `\"age\": 31`, then print the updated dictionary.\n"
   ]
  },
  {
   "cell_type": "code",
   "execution_count": 53,
   "metadata": {},
   "outputs": [
    {
     "name": "stdout",
     "output_type": "stream",
     "text": [
      "{'name': 'Bob', 'age': 31, 'language': 'English', 'email': 'Bob@example.com'}\n"
     ]
    }
   ],
   "source": [
    "# Task 3.1\n",
    "my_dict= {\"name\": 'Bob', \"age\": 20, \"language\": 'English'}\n",
    "my_dict.get('age')\n",
    "my_dict.update({\"email\": 'Bob@example.com'})\n",
    "my_dict.update({\"age\": 31})\n",
    "print(my_dict)\n"
   ]
  },
  {
   "cell_type": "markdown",
   "metadata": {},
   "source": [
    "#### Task 3.2: Dictionary Methods and Nested Structures\n",
    "\n",
    "* Use appropriate methods to print all keys and values in `my_dict` separately.\n",
    "* Create a nested dictionary `nested_dict` with keys `\"personal\"` and `\"professional\"`, each holding another dictionary.\n",
    "* Access and print a value from each nested dictionary in `nested_dict`.\n"
   ]
  },
  {
   "cell_type": "code",
   "execution_count": 62,
   "metadata": {},
   "outputs": [
    {
     "name": "stdout",
     "output_type": "stream",
     "text": [
      "Name: Bob \n",
      "Age: 31 \n",
      "Language: English \n",
      "Email: Bob@example.com\n",
      "{'Personal': {'Out-doors-man'}, 'Professional': {'Player'}}\n",
      "{'Out-doors-man'}\n"
     ]
    }
   ],
   "source": [
    "# Task 3.2\n",
    "print(f\"Name: {my_dict['name']} \\nAge: {my_dict['age']} \\nLanguage: {my_dict['language']} \\nEmail: {my_dict['email']}\")\n",
    "nested_dict = {\"Personal\": {'Out-doors-man'}, \"Professional\": {'Player'}}\n",
    "print(nested_dict)\n",
    "print(nested_dict['Personal'])"
   ]
  },
  {
   "cell_type": "markdown",
   "metadata": {},
   "source": [
    "#### Task 3.3: Dictionary Comprehensions and Removals\n",
    "\n",
    "* Write a dictionary comprehension to swap keys and values in `my_dict` and print it.\n",
    "* Remove the key `\"language\"` from `my_dict` using `pop()` and print the popped value and the updated dictionary.\n",
    "* Use `items()` to print each key-value pair in `my_dict`.\n"
   ]
  },
  {
   "cell_type": "code",
   "execution_count": 64,
   "metadata": {},
   "outputs": [
    {
     "name": "stdout",
     "output_type": "stream",
     "text": [
      "{'Bob': 'name', 31: 'age', 'English': 'language', 'Bob@example.com': 'email'}\n",
      "{'name': 'Bob', 'age': 31, 'email': 'Bob@example.com'}\n",
      "dict_items([('name', 'Bob'), ('age', 31), ('email', 'Bob@example.com')])\n"
     ]
    }
   ],
   "source": [
    "# Task 3.3\n",
    "new_dict = {}\n",
    "for x, y in my_dict.items():\n",
    "    new_dict[y] = x\n",
    "\n",
    "print(new_dict)\n",
    "\n",
    "removed = my_dict.pop('language')\n",
    "\n",
    "print(my_dict)\n",
    "\n",
    "print(my_dict.items())\n"
   ]
  }
 ],
 "metadata": {
  "kernelspec": {
   "display_name": "Python 3",
   "language": "python",
   "name": "python3"
  },
  "language_info": {
   "codemirror_mode": {
    "name": "ipython",
    "version": 3
   },
   "file_extension": ".py",
   "mimetype": "text/x-python",
   "name": "python",
   "nbconvert_exporter": "python",
   "pygments_lexer": "ipython3",
   "version": "3.12.1"
  }
 },
 "nbformat": 4,
 "nbformat_minor": 2
}
