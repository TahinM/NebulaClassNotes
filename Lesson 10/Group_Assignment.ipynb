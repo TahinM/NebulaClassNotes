{
 "cells": [
  {
   "cell_type": "markdown",
   "metadata": {},
   "source": [
    "# 🚀 Advanced Functional Programming Exercises\n",
    "\n",
    "## 1. 🧮 Calculate Total Age in Group\n",
    "\n",
    "Given the following list of people, use `reduce` to calculate the total age of the group.\n",
    "\n",
    "```python\n",
    "people = [\n",
    "    {\"name\": \"Alice\", \"age\": 30},\n",
    "    {\"name\": \"Bob\", \"age\": 25},\n",
    "    {\"name\": \"Charlie\", \"age\": 35},\n",
    "    {\"name\": \"Diana\", \"age\": 40}\n",
    "]\n",
    "```"
   ]
  },
  {
   "cell_type": "code",
   "execution_count": 20,
   "metadata": {},
   "outputs": [
    {
     "name": "stdout",
     "output_type": "stream",
     "text": [
      "130\n"
     ]
    }
   ],
   "source": [
    "from functools import reduce\n",
    "people = [\n",
    "    {\"name\": \"Alice\", \"age\": 30},\n",
    "    {\"name\": \"Bob\", \"age\": 25},\n",
    "    {\"name\": \"Charlie\", \"age\": 35},\n",
    "    {\"name\": \"Diana\", \"age\": 40}\n",
    "]\n",
    "\n",
    "all_age = reduce(lambda persons, j : persons + j['age'], people, 0)\n",
    "\n",
    "print(all_age)"
   ]
  },
  {
   "cell_type": "markdown",
   "metadata": {},
   "source": [
    "## 2. 🔍 Find the Oldest Person\n",
    "\n",
    "Using the same `people` list from above, use `reduce` to find the person with the highest age."
   ]
  },
  {
   "cell_type": "code",
   "execution_count": 21,
   "metadata": {},
   "outputs": [
    {
     "name": "stdout",
     "output_type": "stream",
     "text": [
      "{'name': 'Diana', 'age': 40}\n"
     ]
    }
   ],
   "source": [
    "max_age = reduce(lambda oldest, people : people if people['age'] > oldest['age'] else oldest, people)\n",
    "print(max_age)"
   ]
  },
  {
   "cell_type": "markdown",
   "metadata": {},
   "source": [
    "## 3. 🔠 Extract Unique Job Titles\n",
    "\n",
    "Given the following list of employees, use `map` and `filter` to extract a list of unique job titles.\n",
    "\n",
    "```python\n",
    "employees = [\n",
    "    {\"name\": \"Alice\", \"job_title\": \"Engineer\"},\n",
    "    {\"name\": \"Bob\", \"job_title\": \"Designer\"},\n",
    "    {\"name\": \"Charlie\", \"job_title\": \"Engineer\"},\n",
    "    {\"name\": \"Diana\", \"job_title\": \"Manager\"},\n",
    "    {\"name\": \"Eve\", \"job_title\": \"Designer\"}\n",
    "]\n",
    "```"
   ]
  },
  {
   "cell_type": "code",
   "execution_count": 22,
   "metadata": {},
   "outputs": [
    {
     "name": "stdout",
     "output_type": "stream",
     "text": [
      "{'Engineer', 'Manager', 'Designer'}\n"
     ]
    }
   ],
   "source": [
    "employees = [\n",
    "    {\"name\": \"Alice\", \"job_title\": \"Engineer\"},\n",
    "    {\"name\": \"Bob\", \"job_title\": \"Designer\"},\n",
    "    {\"name\": \"Charlie\", \"job_title\": \"Engineer\"},\n",
    "    {\"name\": \"Diana\", \"job_title\": \"Manager\"},\n",
    "    {\"name\": \"Eve\", \"job_title\": \"Designer\"}\n",
    "]\n",
    "\n",
    "job_titles = set(map(lambda people: people['job_title'],employees))\n",
    "print(job_titles)"
   ]
  },
  {
   "cell_type": "markdown",
   "metadata": {},
   "source": [
    "## 4. 🗂️ Filter and Group by Age Range\n",
    "\n",
    "Using the `people` list, filter out those under 18, then group the remaining people by age range: 18-25, 26-35, 36-45."
   ]
  },
  {
   "cell_type": "code",
   "execution_count": 23,
   "metadata": {},
   "outputs": [
    {
     "name": "stdout",
     "output_type": "stream",
     "text": [
      "[{'name': 'Alice', 'age': 30}, {'name': 'Bob', 'age': 25}, {'name': 'Charlie', 'age': 35}, {'name': 'Diana', 'age': 40}]\n",
      "{'18 - 25': ['Bob'], '26 - 35': ['Alice', 'Charlie'], '36 - 45': ['Diana']}\n"
     ]
    }
   ],
   "source": [
    "\n",
    "age_range = {\n",
    "\n",
    "    '18 - 25' : [],\n",
    "    '26 - 35' : [],\n",
    "    '36 - 45' : [],\n",
    "\n",
    "}\n",
    "people_filtered = list(filter(lambda person : person['age'] >= 18, people))\n",
    "\n",
    "print(people_filtered)\n",
    "\n",
    "def age_group(person):\n",
    "    if 18 <= person['age'] <= 25:\n",
    "        age_range['18 - 25'].append(person['name'])\n",
    "    elif 26 <= person['age'] <= 35:\n",
    "        age_range['26 - 35'].append(person['name'])\n",
    "    elif 36 <= person['age'] <= 45:\n",
    "        age_range['36 - 45'].append(person['name'])\n",
    "\n",
    "for person in people_filtered:\n",
    "    age_group(person)\n",
    "print(age_range)\n",
    "\n",
    "    "
   ]
  },
  {
   "cell_type": "markdown",
   "metadata": {},
   "source": [
    "## 5. 🧩 Merge and Count Job Titles\n",
    "\n",
    "With the `employees` list, use `reduce` to create an object that counts how many people have each job title."
   ]
  },
  {
   "cell_type": "code",
   "execution_count": 27,
   "metadata": {},
   "outputs": [
    {
     "name": "stdout",
     "output_type": "stream",
     "text": [
      "{'Engineer': 2, 'Designer': 2, 'Manager': 1}\n"
     ]
    }
   ],
   "source": [
    "import functools\n",
    "\n",
    "def count_title(x , employee):\n",
    "    job_titles = employee[\"job_title\"]\n",
    "    if job_titles in x:\n",
    "        x[job_titles] += 1\n",
    "    else:\n",
    "        x[job_titles] = 1\n",
    "    return x\n",
    "print(functools.reduce(count_title,employees,{}))"
   ]
  },
  {
   "cell_type": "markdown",
   "metadata": {},
   "source": [
    "## 6. 📊 Calculate Average Salary\n",
    "\n",
    "Using the following list of employees with salaries, use `reduce` to calculate the average salary. Exclude any employees with a salary below 50,000.\n",
    "\n",
    "```python\n",
    "salaries = [\n",
    "    {\"name\": \"Alice\", \"salary\": 60000},\n",
    "    {\"name\": \"Bob\", \"salary\": 45000},\n",
    "    {\"name\": \"Charlie\", \"salary\": 70000},\n",
    "    {\"name\": \"Diana\", \"salary\": 52000},\n",
    "    {\"name\": \"Eve\", \"salary\": 48000}\n",
    "]\n",
    "```"
   ]
  },
  {
   "cell_type": "code",
   "execution_count": 35,
   "metadata": {},
   "outputs": [
    {
     "name": "stdout",
     "output_type": "stream",
     "text": [
      "60666.666666666664\n"
     ]
    }
   ],
   "source": [
    "salaries = [\n",
    "    {\"name\": \"Alice\", \"salary\": 60000},\n",
    "    {\"name\": \"Bob\", \"salary\": 45000},\n",
    "    {\"name\": \"Charlie\", \"salary\": 70000},\n",
    "    {\"name\": \"Diana\", \"salary\": 52000},\n",
    "    {\"name\": \"Eve\", \"salary\": 48000}\n",
    "]\n",
    "\n",
    "filtered_salaries = list(filter(lambda person: person[\"salary\"] >= 50000, salaries))\n",
    "avg_sal = functools.reduce(lambda sum, person: sum + person[\"salary\"], filtered_salaries, 0)/len(filtered_salaries)\n",
    "print(avg_sal)"
   ]
  },
  {
   "cell_type": "markdown",
   "metadata": {},
   "source": [
    "## 7. 🌱 Filter Active Accounts\n",
    "\n",
    "Given the following list of user accounts, use `filter` to return only active accounts.\n",
    "\n",
    "```python\n",
    "accounts = [\n",
    "    {\"name\": \"Alice\", \"isActive\": True},\n",
    "    {\"name\": \"Bob\", \"isActive\": False},\n",
    "    {\"name\": \"Charlie\", \"isActive\": True},\n",
    "    {\"name\": \"Diana\", \"isActive\": False}\n",
    "]\n",
    "```"
   ]
  },
  {
   "cell_type": "code",
   "execution_count": null,
   "metadata": {},
   "outputs": [],
   "source": [
    "accounts = [\n",
    "    {\"name\": \"Alice\", \"isActive\": True},\n",
    "    {\"name\": \"Bob\", \"isActive\": False},\n",
    "    {\"name\": \"Charlie\", \"isActive\": True},\n",
    "    {\"name\": \"Diana\", \"isActive\": False}\n",
    "]\n",
    "filter_accounts = list(filter(lambda person: person[\"isActive\"], accounts))\n",
    "print(filter_accounts)"
   ]
  },
  {
   "cell_type": "markdown",
   "metadata": {},
   "source": [
    "## 8. 🕹️ Generate Usernames\n",
    "\n",
    "Write a function using `map` to generate usernames from the following list of names in the format `first letter of first name + last name`, all lowercase.\n",
    "\n",
    "```python\n",
    "names = [\n",
    "    {\"first_name\": \"Alice\", \"last_name\": \"Johnson\"},\n",
    "    {\"first_name\": \"Bob\", \"last_name\": \"Smith\"},\n",
    "    {\"first_name\": \"Charlie\", \"last_name\": \"Brown\"},\n",
    "    {\"first_name\": \"Diana\", \"last_name\": \"Williams\"}\n",
    "]\n",
    "```"
   ]
  },
  {
   "cell_type": "code",
   "execution_count": null,
   "metadata": {},
   "outputs": [],
   "source": [
    "names = [\n",
    "    {\"first_name\": \"Alice\", \"last_name\": \"Johnson\"},\n",
    "    {\"first_name\": \"Bob\", \"last_name\": \"Smith\"},\n",
    "    {\"first_name\": \"Charlie\", \"last_name\": \"Brown\"},\n",
    "    {\"first_name\": \"Diana\", \"last_name\": \"Williams\"}\n",
    "]\n",
    "usernames = list(map(lambda person: person[\"first_name\"][0].lower() + person[\"last_name\"].lower(), names))\n",
    "print(usernames)"
   ]
  },
  {
   "cell_type": "markdown",
   "metadata": {},
   "source": [
    "## 9. 📅 Find Longest Employment Duration\n",
    "\n",
    "Given the following list of employees with `hire_date` and `termination_date`, use `reduce` to find the employee with the longest duration of employment.\n",
    "\n",
    "```python\n",
    "employment = [\n",
    "    {\"name\": \"Alice\", \"hire_date\": \"2015-06-01\", \"termination_date\": \"2020-06-01\"},\n",
    "    {\"name\": \"Bob\", \"hire_date\": \"2012-01-01\", \"termination_date\": \"2018-01-01\"},\n",
    "    {\"name\": \"Charlie\", \"hire_date\": \"2017-09-01\", \"termination_date\": \"2022-09-01\"},\n",
    "    {\"name\": \"Diana\", \"hire_date\": \"2013-05-01\", \"termination_date\": \"2019-05-01\"}\n",
    "]\n",
    "```"
   ]
  },
  {
   "cell_type": "code",
   "execution_count": 42,
   "metadata": {},
   "outputs": [
    {
     "name": "stdout",
     "output_type": "stream",
     "text": [
      "1827\n",
      "{'name': 'Charlie', 'hire_date': '2017-09-01', 'termination_date': '2022-09-01'}\n"
     ]
    }
   ],
   "source": [
    "employment = [\n",
    "    {\"name\": \"Alice\", \"hire_date\": \"2015-06-01\", \"termination_date\": \"2020-06-01\"},\n",
    "    {\"name\": \"Bob\", \"hire_date\": \"2012-01-01\", \"termination_date\": \"2018-01-01\"},\n",
    "    {\"name\": \"Charlie\", \"hire_date\": \"2017-09-01\", \"termination_date\": \"2022-09-01\"},\n",
    "    {\"name\": \"Diana\", \"hire_date\": \"2013-05-01\", \"termination_date\": \"2019-05-01\"}\n",
    "]\n",
    "\n",
    "from datetime import date\n",
    "\n",
    "def duration(employee):\n",
    "#date (year, month, day)\n",
    "    h_day = employee['hire_date'].split('-')\n",
    "    hired_time = date(int(h_day[0]), int(h_day[1]), int(h_day[2]))\n",
    "    h_day = employee['termination_date'].split('-')\n",
    "    term_date = date(int(h_day[0]), int(h_day[1]), int(h_day[2]))\n",
    "\n",
    "    return (term_date - hired_time).days\n",
    "\n",
    "print(duration(employment[0]))\n",
    "\n",
    "filtered_duration = reduce(lambda oldest, employee : employee if employee['hire_date'] > oldest['hire_date'] else oldest, employment )\n",
    "print(filtered_duration)\n",
    "\n",
    "#reduce(lambda oldest, people : people if people['age'] > oldest['age'] else oldest, people)\n"
   ]
  },
  {
   "cell_type": "markdown",
   "metadata": {},
   "source": [
    "## 10. 📍 Sort Locations by Distance\n",
    "\n",
    "Using the following list of locations with latitude and longitude, write a function that uses `map` to calculate distances from a reference point `(0, 0)`, then `sort` the list by distance in ascending order.\n",
    "\n",
    "```python\n",
    "locations = [\n",
    "    {\"name\": \"Place A\", \"latitude\": 34.05, \"longitude\": -118.25},\n",
    "    {\"name\": \"Place B\", \"latitude\": 40.71, \"longitude\": -74.01},\n",
    "    {\"name\": \"Place C\", \"latitude\": 51.51, \"longitude\": -0.13},\n",
    "    {\"name\": \"Place D\", \"latitude\": 48.85, \"longitude\": 2.35}\n",
    "]\n",
    "```"
   ]
  },
  {
   "cell_type": "code",
   "execution_count": 50,
   "metadata": {},
   "outputs": [
    {
     "name": "stdout",
     "output_type": "stream",
     "text": [
      "123.05472359889319\n",
      "[{'name': 'Place D', 'latitude': 48.85, 'longitude': 2.35}, {'name': 'Place C', 'latitude': 51.51, 'longitude': -0.13}, {'name': 'Place B', 'latitude': 40.71, 'longitude': -74.01}, {'name': 'Place A', 'latitude': 34.05, 'longitude': -118.25}]\n",
      "{'name': 'Place D', 'latitude': 48.85, 'longitude': 2.35}\n",
      "{'name': 'Place C', 'latitude': 51.51, 'longitude': -0.13}\n",
      "{'name': 'Place B', 'latitude': 40.71, 'longitude': -74.01}\n",
      "{'name': 'Place A', 'latitude': 34.05, 'longitude': -118.25}\n"
     ]
    }
   ],
   "source": [
    "locations = [\n",
    "    {\"name\": \"Place A\", \"latitude\": 34.05, \"longitude\": -118.25},\n",
    "    {\"name\": \"Place B\", \"latitude\": 40.71, \"longitude\": -74.01},\n",
    "    {\"name\": \"Place C\", \"latitude\": 51.51, \"longitude\": -0.13},\n",
    "    {\"name\": \"Place D\", \"latitude\": 48.85, \"longitude\": 2.35}\n",
    "]\n",
    "\n",
    "def distance(pin):\n",
    "    return (pin['longitude']**2 + pin['latitude']**2)**.5\n",
    "\n",
    "print(distance(locations[0]))\n",
    "\n",
    "sorted_locations = sorted(locations, key = distance)\n",
    "\n",
    "print(sorted_locations)\n",
    "for i in sorted_locations:\n",
    "    print(i)"
   ]
  },
  {
   "cell_type": "markdown",
   "metadata": {},
   "source": [
    "### Extra Challenge 💡\n",
    "\n",
    "Combine multiple functional methods (e.g., `map`, `filter`, `reduce`) to process the following data structure, filtering active users, calculating the total age, and grouping by job title.\n",
    "\n",
    "```python\n",
    "extended_data = [\n",
    "    {\"name\": \"Alice\", \"age\": 30, \"job_title\": \"Engineer\", \"isActive\": True},\n",
    "    {\"name\": \"Bob\", \"age\": 25, \"job_title\": \"Designer\", \"isActive\": False},\n",
    "    {\"name\": \"Charlie\", \"age\": 35, \"job_title\": \"Engineer\", \"isActive\": True},\n",
    "    {\"name\": \"Diana\", \"age\": 40, \"job_title\": \"Manager\", \"isActive\": True},\n",
    "    {\"name\": \"Eve\", \"age\": 28, \"job_title\": \"Designer\", \"isActive\": True}\n",
    "]\n",
    "```"
   ]
  },
  {
   "cell_type": "code",
   "execution_count": 51,
   "metadata": {},
   "outputs": [
    {
     "name": "stdout",
     "output_type": "stream",
     "text": [
      "{'name': 'Alice', 'age': 30, 'job_title': 'Engineer', 'isActive': True}\n",
      "{'name': 'Charlie', 'age': 35, 'job_title': 'Engineer', 'isActive': True}\n",
      "{'name': 'Diana', 'age': 40, 'job_title': 'Manager', 'isActive': True}\n",
      "{'name': 'Eve', 'age': 28, 'job_title': 'Designer', 'isActive': True}\n",
      "133\n"
     ]
    }
   ],
   "source": [
    "#active users \n",
    "extended_data = [\n",
    "    {\"name\": \"Alice\", \"age\": 30, \"job_title\": \"Engineer\", \"isActive\": True},\n",
    "    {\"name\": \"Bob\", \"age\": 25, \"job_title\": \"Designer\", \"isActive\": False},\n",
    "    {\"name\": \"Charlie\", \"age\": 35, \"job_title\": \"Engineer\", \"isActive\": True},\n",
    "    {\"name\": \"Diana\", \"age\": 40, \"job_title\": \"Manager\", \"isActive\": True},\n",
    "    {\"name\": \"Eve\", \"age\": 28, \"job_title\": \"Designer\", \"isActive\": True}\n",
    "]\n",
    "\n",
    "#active users\n",
    "active_users = list(filter(lambda person: person['isActive'], extended_data))\n",
    " \n",
    "#Cal the total age\n",
    "total_age = reduce(lambda acc, person: acc + person['age'], active_users, 0)\n",
    " \n",
    "unique_jobs = set(map(lambda person: person[\"job_title\"], extended_data))\n",
    "lst = []\n",
    " \n",
    "for each_job in unique_jobs:\n",
    "\tfor active_user in active_users:\n",
    "\t\tif each_job == active_user['job_title']:\n",
    "\t\t\tlst.append(active_user)\n",
    " \n",
    " \n",
    "for i in lst:\n",
    "\tprint(i)\n",
    "print(total_age)\t"
   ]
  }
 ],
 "metadata": {
  "kernelspec": {
   "display_name": "Python 3",
   "language": "python",
   "name": "python3"
  },
  "language_info": {
   "codemirror_mode": {
    "name": "ipython",
    "version": 3
   },
   "file_extension": ".py",
   "mimetype": "text/x-python",
   "name": "python",
   "nbconvert_exporter": "python",
   "pygments_lexer": "ipython3",
   "version": "3.12.1"
  }
 },
 "nbformat": 4,
 "nbformat_minor": 2
}
